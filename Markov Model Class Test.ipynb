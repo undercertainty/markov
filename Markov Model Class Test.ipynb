{
 "cells": [
  {
   "cell_type": "markdown",
   "metadata": {},
   "source": [
    "# Markov Model tester"
   ]
  },
  {
   "cell_type": "markdown",
   "metadata": {},
   "source": [
    "This notebook tests the Markov model class."
   ]
  },
  {
   "cell_type": "code",
   "execution_count": 2,
   "metadata": {
    "collapsed": true
   },
   "outputs": [],
   "source": [
    "import markovmodels as mm"
   ]
  },
  {
   "cell_type": "markdown",
   "metadata": {},
   "source": [
    "We'll assume that the model is to be built from a set of pairs, where each pair (X, Y) represents a single occurrence of a transition from state X to state Y."
   ]
  },
  {
   "cell_type": "code",
   "execution_count": 3,
   "metadata": {
    "collapsed": true
   },
   "outputs": [],
   "source": [
    "transitions_ls=[('a', 'a'), ('a', 'b'), ('a', 'b'), ('a', 'b'), ('a', 'b'), \n",
    "                ('a', 'c'), ('a', 'c'), ('a', 'c'), ('a', 'c'), ('a', 'c'), \n",
    "                ('b', 'a'), ('b', 'b'), ('b', 'b'), ('b', 'b'), ('b', 'b'), \n",
    "                ('b', 'b'), ('b', 'b'), ('b', 'b'), ('b', 'b'), ('b', 'c'),\n",
    "                ('c', 'a'), ('c', 'a'), ('c', 'a'), ('c', 'b'), ('c', 'b'),\n",
    "                ('c', 'b'), ('c', 'b'), ('c', 'c'), ('c', 'c'), ('c', 'c')]"
   ]
  },
  {
   "cell_type": "markdown",
   "metadata": {},
   "source": [
    "And let's shuffle them, just for good measure:"
   ]
  },
  {
   "cell_type": "code",
   "execution_count": 4,
   "metadata": {},
   "outputs": [
    {
     "data": {
      "text/plain": [
       "[('b', 'b'), ('b', 'b'), ('a', 'b'), ('b', 'c'), ('c', 'a')]"
      ]
     },
     "execution_count": 4,
     "metadata": {},
     "output_type": "execute_result"
    }
   ],
   "source": [
    "import random\n",
    "\n",
    "random.shuffle(transitions_ls)\n",
    "transitions_ls[:5]"
   ]
  },
  {
   "cell_type": "markdown",
   "metadata": {},
   "source": [
    "Now, use this transition list to create our first Markov model:"
   ]
  },
  {
   "cell_type": "code",
   "execution_count": 5,
   "metadata": {},
   "outputs": [
    {
     "ename": "AttributeError",
     "evalue": "'MarkovModel' object has no attribute 'transitionMatrix_df'",
     "output_type": "error",
     "traceback": [
      "\u001b[0;31m---------------------------------------------------------------------------\u001b[0m",
      "\u001b[0;31mAttributeError\u001b[0m                            Traceback (most recent call last)",
      "\u001b[0;32m<ipython-input-5-5d5b1ef2ef24>\u001b[0m in \u001b[0;36m<module>\u001b[0;34m()\u001b[0m\n\u001b[1;32m      1\u001b[0m \u001b[0mtest_mm\u001b[0m\u001b[0;34m=\u001b[0m\u001b[0mmm\u001b[0m\u001b[0;34m.\u001b[0m\u001b[0mMarkovModel\u001b[0m\u001b[0;34m(\u001b[0m\u001b[0mtransitions_ls\u001b[0m\u001b[0;34m)\u001b[0m\u001b[0;34m\u001b[0m\u001b[0m\n\u001b[0;32m----> 2\u001b[0;31m \u001b[0mtest_mm\u001b[0m\u001b[0;34m.\u001b[0m\u001b[0mtransitionMatrix_df\u001b[0m\u001b[0;34m\u001b[0m\u001b[0m\n\u001b[0m",
      "\u001b[0;31mAttributeError\u001b[0m: 'MarkovModel' object has no attribute 'transitionMatrix_df'"
     ]
    }
   ],
   "source": [
    "test_mm=mm.MarkovModel(transitions_ls)\n",
    "test_mm.t"
   ]
  },
  {
   "cell_type": "markdown",
   "metadata": {},
   "source": [
    "We can now use the `apply` method on this Markov model to transition for n steps from a given start point."
   ]
  },
  {
   "cell_type": "markdown",
   "metadata": {},
   "source": [
    "Let's say that we want to move 5 steps from the starting state 'a'."
   ]
  },
  {
   "cell_type": "code",
   "execution_count": 135,
   "metadata": {
    "collapsed": true
   },
   "outputs": [],
   "source": [
    "ms=test_mm.apply(['a'], 5)"
   ]
  },
  {
   "cell_type": "markdown",
   "metadata": {},
   "source": [
    "Now, we can find which state we are most likely to be in:"
   ]
  },
  {
   "cell_type": "code",
   "execution_count": 136,
   "metadata": {},
   "outputs": [
    {
     "data": {
      "text/plain": [
       "['b']"
      ]
     },
     "execution_count": 136,
     "metadata": {},
     "output_type": "execute_result"
    }
   ],
   "source": [
    "ms.most_likely_state()"
   ]
  },
  {
   "cell_type": "markdown",
   "metadata": {},
   "source": [
    "And also what is the most likely path to any of the states. For example, the most likely path from the initial state ('a') to, say, 'c', is:"
   ]
  },
  {
   "cell_type": "code",
   "execution_count": 137,
   "metadata": {},
   "outputs": [
    {
     "data": {
      "text/plain": [
       "['a', 'b', 'b', 'b', 'b', 'a']"
      ]
     },
     "execution_count": 137,
     "metadata": {},
     "output_type": "execute_result"
    }
   ],
   "source": [
    "ms.most_likely_path('a')"
   ]
  },
  {
   "cell_type": "markdown",
   "metadata": {
    "collapsed": true
   },
   "source": [
    "We can also merge markov models. Let's take a couple of examples:"
   ]
  },
  {
   "cell_type": "code",
   "execution_count": 138,
   "metadata": {
    "collapsed": true
   },
   "outputs": [],
   "source": [
    "import random"
   ]
  },
  {
   "cell_type": "code",
   "execution_count": 139,
   "metadata": {},
   "outputs": [
    {
     "data": {
      "text/plain": [
       "[('c', 'c'),\n",
       " ('b', 'd'),\n",
       " ('b', 'b'),\n",
       " ('a', 'd'),\n",
       " ('a', 'b'),\n",
       " ('d', 'b'),\n",
       " ('b', 'c'),\n",
       " ('b', 'd'),\n",
       " ('c', 'c'),\n",
       " ('b', 'd'),\n",
       " ('c', 'b'),\n",
       " ('a', 'c'),\n",
       " ('c', 'd'),\n",
       " ('d', 'a'),\n",
       " ('b', 'a'),\n",
       " ('a', 'b'),\n",
       " ('d', 'b'),\n",
       " ('c', 'c'),\n",
       " ('b', 'b'),\n",
       " ('d', 'c')]"
      ]
     },
     "execution_count": 139,
     "metadata": {},
     "output_type": "execute_result"
    }
   ],
   "source": [
    "markovTrans1_ls=[(['a', 'b', 'c', 'd'][random.randint(0, 3)], \n",
    "                  ['a', 'b', 'c', 'd'][random.randint(0, 3)]) \n",
    "                 for i in range(20)]\n",
    "markovTrans1_ls"
   ]
  },
  {
   "cell_type": "markdown",
   "metadata": {},
   "source": [
    "which we can turn into a Markov model:"
   ]
  },
  {
   "cell_type": "code",
   "execution_count": 140,
   "metadata": {},
   "outputs": [
    {
     "data": {
      "text/plain": [
       "array([[ 0.        ,  0.5       ,  0.25      ,  0.25      ],\n",
       "       [ 0.14285714,  0.28571429,  0.14285714,  0.42857143],\n",
       "       [ 0.        ,  0.2       ,  0.6       ,  0.2       ],\n",
       "       [ 0.25      ,  0.5       ,  0.25      ,  0.        ]])"
      ]
     },
     "execution_count": 140,
     "metadata": {},
     "output_type": "execute_result"
    }
   ],
   "source": [
    "mm1=mm.MarkovModel(markovTrans1_ls)\n",
    "mm1.transitionMatrix_ar"
   ]
  },
  {
   "cell_type": "markdown",
   "metadata": {},
   "source": [
    "And another, with a slightly different set of transitions:"
   ]
  },
  {
   "cell_type": "code",
   "execution_count": 141,
   "metadata": {},
   "outputs": [
    {
     "data": {
      "text/plain": [
       "[('c', 'f'),\n",
       " ('d', 'e'),\n",
       " ('c', 'd'),\n",
       " ('d', 'e'),\n",
       " ('e', 'e'),\n",
       " ('f', 'e'),\n",
       " ('f', 'd'),\n",
       " ('e', 'd'),\n",
       " ('c', 'c'),\n",
       " ('e', 'c'),\n",
       " ('f', 'e'),\n",
       " ('c', 'd'),\n",
       " ('d', 'f'),\n",
       " ('f', 'd'),\n",
       " ('d', 'e'),\n",
       " ('c', 'c'),\n",
       " ('f', 'c'),\n",
       " ('f', 'e'),\n",
       " ('f', 'c'),\n",
       " ('c', 'f')]"
      ]
     },
     "execution_count": 141,
     "metadata": {},
     "output_type": "execute_result"
    }
   ],
   "source": [
    "markovTrans2_ls=[(['c', 'd', 'e', 'f'][random.randint(0, 3)], \n",
    "                  ['c', 'd', 'e', 'f'][random.randint(0, 3)]) \n",
    "                 for i in range(20)]\n",
    "markovTrans2_ls"
   ]
  },
  {
   "cell_type": "code",
   "execution_count": 142,
   "metadata": {},
   "outputs": [
    {
     "data": {
      "text/plain": [
       "array([[ 0.33333333,  0.33333333,  0.        ,  0.33333333],\n",
       "       [ 0.        ,  0.        ,  0.75      ,  0.25      ],\n",
       "       [ 0.33333333,  0.33333333,  0.33333333,  0.        ],\n",
       "       [ 0.28571429,  0.28571429,  0.42857143,  0.        ]])"
      ]
     },
     "execution_count": 142,
     "metadata": {},
     "output_type": "execute_result"
    }
   ],
   "source": [
    "mm2=mm.MarkovModel(markovTrans2_ls)\n",
    "mm2.transitionMatrix_ar"
   ]
  },
  {
   "cell_type": "markdown",
   "metadata": {},
   "source": [
    "And now we can merge them into a single MM. Let's do 50% each"
   ]
  },
  {
   "cell_type": "code",
   "execution_count": 157,
   "metadata": {
    "collapsed": true
   },
   "outputs": [],
   "source": [
    "merged_mm=mm.merge(mm1, mm2, 0.5)"
   ]
  },
  {
   "cell_type": "markdown",
   "metadata": {},
   "source": [
    "And let's find the shortest path from 'a' to 'f' in 8 steps:"
   ]
  },
  {
   "cell_type": "code",
   "execution_count": 158,
   "metadata": {},
   "outputs": [
    {
     "data": {
      "text/plain": [
       "['e', 'c', 'c', 'c', 'c', 'c', 'c', 'c', 'c']"
      ]
     },
     "execution_count": 158,
     "metadata": {},
     "output_type": "execute_result"
    }
   ],
   "source": [
    "s=merged_mm.apply(['e'], 8)\n",
    "s.most_likely_path('c')"
   ]
  },
  {
   "cell_type": "markdown",
   "metadata": {},
   "source": [
    "If we make the merged version 90% model 1, we should get mainly states 'a' to 'd'"
   ]
  },
  {
   "cell_type": "code",
   "execution_count": 149,
   "metadata": {
    "collapsed": true
   },
   "outputs": [],
   "source": [
    "merged_mm=mm.merge(mm1, mm2, 0.9)"
   ]
  },
  {
   "cell_type": "code",
   "execution_count": 150,
   "metadata": {},
   "outputs": [
    {
     "data": {
      "text/plain": [
       "['a', 'c', 'c', 'c', 'c', 'c', 'c', 'c', 'f']"
      ]
     },
     "execution_count": 150,
     "metadata": {},
     "output_type": "execute_result"
    }
   ],
   "source": [
    "s=merged_mm.apply(['a'], 8)\n",
    "s.most_likely_path('f')"
   ]
  },
  {
   "cell_type": "markdown",
   "metadata": {},
   "source": [
    "And if we make the merged version 90% model 2, we should get mainly states 'c' to 'f'"
   ]
  },
  {
   "cell_type": "code",
   "execution_count": 147,
   "metadata": {
    "collapsed": true
   },
   "outputs": [],
   "source": [
    "merged_mm=mm.merge(mm1, mm2, 0.1)"
   ]
  },
  {
   "cell_type": "code",
   "execution_count": 148,
   "metadata": {},
   "outputs": [
    {
     "data": {
      "text/plain": [
       "['a', 'b', 'd', 'e', 'd', 'e', 'c', 'c', 'f']"
      ]
     },
     "execution_count": 148,
     "metadata": {},
     "output_type": "execute_result"
    }
   ],
   "source": [
    "s=merged_mm.apply(['a'], 8)\n",
    "s.most_likely_path('f')"
   ]
  }
 ],
 "metadata": {
  "kernelspec": {
   "display_name": "Python [conda root]",
   "language": "python",
   "name": "conda-root-py"
  },
  "language_info": {
   "codemirror_mode": {
    "name": "ipython",
    "version": 3
   },
   "file_extension": ".py",
   "mimetype": "text/x-python",
   "name": "python",
   "nbconvert_exporter": "python",
   "pygments_lexer": "ipython3",
   "version": "3.5.4"
  }
 },
 "nbformat": 4,
 "nbformat_minor": 2
}
