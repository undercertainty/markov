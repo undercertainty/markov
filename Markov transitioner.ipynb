{
 "cells": [
  {
   "cell_type": "markdown",
   "metadata": {},
   "source": [
    "# Markov transitioner. Attempt 1."
   ]
  },
  {
   "cell_type": "markdown",
   "metadata": {},
   "source": [
    "This notebook uses the markov models implemented in the markovmodel.py library to find the most likely path through a transitioning network.\n",
    "\n",
    "That is, if we have, say, 10 steps, and are using two MMs, MM1 and MM2, then the first step will use a MM that's 90% MM1 and 10% MM2, then 80% MM1 and 20% MM2 and so on.\n",
    "\n",
    "The aim is to try to find smooth transitions between sequential data sources."
   ]
  },
  {
   "cell_type": "raw",
   "metadata": {},
   "source": [
    "First, import the markov model library:"
   ]
  },
  {
   "cell_type": "code",
   "execution_count": 1,
   "metadata": {
    "collapsed": true
   },
   "outputs": [],
   "source": [
    "import markovmodels as mm"
   ]
  },
  {
   "cell_type": "markdown",
   "metadata": {},
   "source": [
    "Now, let's define a random MM which uses the states in {'a', 'b', 'c', 'd', 'e'}:"
   ]
  },
  {
   "cell_type": "code",
   "execution_count": 2,
   "metadata": {
    "collapsed": true
   },
   "outputs": [],
   "source": [
    "from random import randint"
   ]
  },
  {
   "cell_type": "code",
   "execution_count": 3,
   "metadata": {
    "collapsed": true
   },
   "outputs": [],
   "source": [
    "states_ls=['a', 'b', 'c', 'd', 'e']\n",
    "\n",
    "test1_mm=mm.MarkovModel([(states_ls[randint(0, len(states_ls)-1)],\n",
    "                          states_ls[randint(0, len(states_ls)-1)])\n",
    "                         for i in range(20)],\n",
    "                        [states_ls[randint(0, len(states_ls)-1)]\n",
    "                         for i in range(10)]\n",
    "                        )"
   ]
  },
  {
   "cell_type": "markdown",
   "metadata": {},
   "source": [
    "And another random MM which uses the states in {'c', 'd', 'e', 'f', 'g'}:"
   ]
  },
  {
   "cell_type": "code",
   "execution_count": 4,
   "metadata": {
    "collapsed": true
   },
   "outputs": [],
   "source": [
    "states_ls=['c', 'd', 'e', 'f', 'g']\n",
    "\n",
    "test2_mm=mm.MarkovModel([(states_ls[randint(0, len(states_ls)-1)],\n",
    "                          states_ls[randint(0, len(states_ls)-1)])\n",
    "                         for i in range(20)],\n",
    "                        [states_ls[randint(0, len(states_ls)-1)]\n",
    "                         for i in range(10)]\n",
    "                        )"
   ]
  },
  {
   "cell_type": "code",
   "execution_count": 5,
   "metadata": {},
   "outputs": [
    {
     "data": {
      "text/plain": [
       "array([[ 0.2       ,  0.        ,  0.2       ,  0.4       ,  0.2       ],\n",
       "       [ 0.        ,  0.2       ,  0.2       ,  0.        ,  0.6       ],\n",
       "       [ 0.        ,  0.        ,  0.        ,  0.        ,  1.        ],\n",
       "       [ 0.        ,  1.        ,  0.        ,  0.        ,  0.        ],\n",
       "       [ 0.14285714,  0.14285714,  0.        ,  0.57142857,  0.14285714]])"
      ]
     },
     "execution_count": 5,
     "metadata": {},
     "output_type": "execute_result"
    }
   ],
   "source": [
    "test2_mm.transitionMatrix_ar"
   ]
  },
  {
   "cell_type": "markdown",
   "metadata": {},
   "source": [
    "So we can go from, say, state 'a' to state 'd' in MM1:"
   ]
  },
  {
   "cell_type": "code",
   "execution_count": 6,
   "metadata": {},
   "outputs": [
    {
     "data": {
      "text/plain": [
       "['a', 'a', 'a', 'a', 'c', 'd']"
      ]
     },
     "execution_count": 6,
     "metadata": {},
     "output_type": "execute_result"
    }
   ],
   "source": [
    "# Let's try it in 5 steps\n",
    "test1_mm.apply(['a'], 5).most_likely_path('d')"
   ]
  },
  {
   "cell_type": "markdown",
   "metadata": {},
   "source": [
    "and state 'd' to state 'g' in MM2:"
   ]
  },
  {
   "cell_type": "code",
   "execution_count": 7,
   "metadata": {},
   "outputs": [
    {
     "data": {
      "text/plain": [
       "['d', 'e', 'g', 'f', 'd', 'g']"
      ]
     },
     "execution_count": 7,
     "metadata": {},
     "output_type": "execute_result"
    }
   ],
   "source": [
    "# Let's try it in 5 steps\n",
    "test2_mm.apply(['d'], 5).most_likely_path('g')"
   ]
  },
  {
   "cell_type": "markdown",
   "metadata": {},
   "source": [
    "but 'a' is not in MM2, and 'g' is not in MM1, so we need to combine them. And we can do that with a number of steps. Let's assume we're using 10."
   ]
  },
  {
   "cell_type": "markdown",
   "metadata": {},
   "source": [
    "Start with a 100% of MM1:"
   ]
  },
  {
   "cell_type": "code",
   "execution_count": 8,
   "metadata": {},
   "outputs": [
    {
     "data": {
      "text/plain": [
       "array([ 0.4,  0.2,  0.2,  0. ,  0.2,  0. ,  0. ])"
      ]
     },
     "execution_count": 8,
     "metadata": {},
     "output_type": "execute_result"
    }
   ],
   "source": [
    "merge_mm=mm.merge(test1_mm, test2_mm, 1)\n",
    "s1=merge_mm.apply(['a'])\n",
    "s1.get_current_state_distribution()"
   ]
  },
  {
   "cell_type": "markdown",
   "metadata": {},
   "source": [
    "Next do 90% of MM1:"
   ]
  },
  {
   "cell_type": "code",
   "execution_count": 9,
   "metadata": {},
   "outputs": [
    {
     "data": {
      "text/plain": [
       "array([ 0.16 ,  0.08 ,  0.08 ,  0.06 ,  0.08 ,  0.008,  0.02 ])"
      ]
     },
     "execution_count": 9,
     "metadata": {},
     "output_type": "execute_result"
    }
   ],
   "source": [
    "merge_mm=mm.merge(test1_mm, test2_mm, 0.9)\n",
    "s2=merge_mm.apply(s1)\n",
    "s2.get_current_state_distribution()"
   ]
  },
  {
   "cell_type": "markdown",
   "metadata": {},
   "source": [
    "Next do 80% of MM1:"
   ]
  },
  {
   "cell_type": "code",
   "execution_count": 10,
   "metadata": {},
   "outputs": [
    {
     "data": {
      "text/plain": [
       "array([ 0.064     ,  0.032     ,  0.032     ,  0.02133333,  0.032     ,\n",
       "        0.01142857,  0.016     ])"
      ]
     },
     "execution_count": 10,
     "metadata": {},
     "output_type": "execute_result"
    }
   ],
   "source": [
    "merge_mm=mm.merge(test1_mm, test2_mm, 0.8)\n",
    "s3=merge_mm.apply(s2)\n",
    "s3.get_current_state_distribution()"
   ]
  },
  {
   "cell_type": "markdown",
   "metadata": {},
   "source": [
    "Next do 70% of MM1:"
   ]
  },
  {
   "cell_type": "code",
   "execution_count": 11,
   "metadata": {},
   "outputs": [
    {
     "data": {
      "text/plain": [
       "array([ 0.0256    ,  0.0128    ,  0.0128    ,  0.01142857,  0.0128    ,\n",
       "        0.00914286,  0.0096    ])"
      ]
     },
     "execution_count": 11,
     "metadata": {},
     "output_type": "execute_result"
    }
   ],
   "source": [
    "merge_mm=mm.merge(test1_mm, test2_mm, 0.7)\n",
    "s4=merge_mm.apply(s3)\n",
    "s4.get_current_state_distribution()"
   ]
  },
  {
   "cell_type": "markdown",
   "metadata": {},
   "source": [
    "and so on..."
   ]
  },
  {
   "cell_type": "code",
   "execution_count": 12,
   "metadata": {},
   "outputs": [
    {
     "data": {
      "text/plain": [
       "array([ 0.01024   ,  0.00512   ,  0.00512   ,  0.00914286,  0.00512   ,\n",
       "        0.00548571,  0.00512   ])"
      ]
     },
     "execution_count": 12,
     "metadata": {},
     "output_type": "execute_result"
    }
   ],
   "source": [
    "merge_mm=mm.merge(test1_mm, test2_mm, 0.6)\n",
    "s5=merge_mm.apply(s4)\n",
    "s5.get_current_state_distribution()"
   ]
  },
  {
   "cell_type": "code",
   "execution_count": 13,
   "metadata": {},
   "outputs": [
    {
     "data": {
      "text/plain": [
       "array([ 0.004096  ,  0.002048  ,  0.002048  ,  0.00548571,  0.002048  ,\n",
       "        0.00292571,  0.00274286])"
      ]
     },
     "execution_count": 13,
     "metadata": {},
     "output_type": "execute_result"
    }
   ],
   "source": [
    "merge_mm=mm.merge(test1_mm, test2_mm, 0.5)\n",
    "s6=merge_mm.apply(s5)\n",
    "s6.get_current_state_distribution()"
   ]
  },
  {
   "cell_type": "code",
   "execution_count": 14,
   "metadata": {},
   "outputs": [
    {
     "data": {
      "text/plain": [
       "array([ 0.0016384 ,  0.0008192 ,  0.0008192 ,  0.00292571,  0.001024  ,\n",
       "        0.00156735,  0.00197486])"
      ]
     },
     "execution_count": 14,
     "metadata": {},
     "output_type": "execute_result"
    }
   ],
   "source": [
    "merge_mm=mm.merge(test1_mm, test2_mm, 0.4)\n",
    "s7=merge_mm.apply(s6)\n",
    "s7.get_current_state_distribution()"
   ]
  },
  {
   "cell_type": "code",
   "execution_count": 15,
   "metadata": {},
   "outputs": [
    {
     "data": {
      "text/plain": [
       "array([ 0.00065536,  0.00032768,  0.00032768,  0.00156735,  0.00055589,\n",
       "        0.00112849,  0.0012288 ])"
      ]
     },
     "execution_count": 15,
     "metadata": {},
     "output_type": "execute_result"
    }
   ],
   "source": [
    "merge_mm=mm.merge(test1_mm, test2_mm, 0.3)\n",
    "s8=merge_mm.apply(s7)\n",
    "s8.get_current_state_distribution()"
   ]
  },
  {
   "cell_type": "code",
   "execution_count": 16,
   "metadata": {},
   "outputs": [
    {
     "data": {
      "text/plain": [
       "array([ 0.00026214,  0.00013107,  0.00017554,  0.00112849,  0.00030302,\n",
       "        0.00070217,  0.00075233])"
      ]
     },
     "execution_count": 16,
     "metadata": {},
     "output_type": "execute_result"
    }
   ],
   "source": [
    "merge_mm=mm.merge(test1_mm, test2_mm, 0.2)\n",
    "s9=merge_mm.apply(s8)\n",
    "s9.get_current_state_distribution()"
   ]
  },
  {
   "cell_type": "code",
   "execution_count": 17,
   "metadata": {},
   "outputs": [
    {
     "data": {
      "text/plain": [
       "array([  1.04857600e-04,   5.24288000e-05,   1.07475219e-04,\n",
       "         7.02171429e-04,   2.21936327e-04,   4.29900875e-04,\n",
       "         6.09384490e-04])"
      ]
     },
     "execution_count": 17,
     "metadata": {},
     "output_type": "execute_result"
    }
   ],
   "source": [
    "merge_mm=mm.merge(test1_mm, test2_mm, 0.1)\n",
    "s10=merge_mm.apply(s9)\n",
    "s10.get_current_state_distribution()"
   ]
  },
  {
   "cell_type": "code",
   "execution_count": 18,
   "metadata": {},
   "outputs": [
    {
     "data": {
      "text/plain": [
       "array([  0.00000000e+00,   0.00000000e+00,   8.70549271e-05,\n",
       "         4.29900875e-04,   1.40434286e-04,   3.48219708e-04,\n",
       "         4.21302857e-04])"
      ]
     },
     "execution_count": 18,
     "metadata": {},
     "output_type": "execute_result"
    }
   ],
   "source": [
    "merge_mm=mm.merge(test1_mm, test2_mm, 0)\n",
    "s11=merge_mm.apply(s10)\n",
    "s11.get_current_state_distribution()"
   ]
  },
  {
   "cell_type": "code",
   "execution_count": 19,
   "metadata": {},
   "outputs": [
    {
     "data": {
      "text/plain": [
       "array([  0.00000000e+00,   0.00000000e+00,   8.70549271e-05,\n",
       "         4.29900875e-04,   1.40434286e-04,   3.48219708e-04,\n",
       "         4.21302857e-04])"
      ]
     },
     "execution_count": 19,
     "metadata": {},
     "output_type": "execute_result"
    }
   ],
   "source": [
    "s11.get_current_state_distribution()"
   ]
  },
  {
   "cell_type": "markdown",
   "metadata": {},
   "source": [
    "Now, if we get the path to 'g', then we'd hope to see more of the MM1 states in the first half, and more of the MM2 states in the second half:"
   ]
  },
  {
   "cell_type": "code",
   "execution_count": 20,
   "metadata": {},
   "outputs": [
    {
     "data": {
      "text/plain": [
       "['a', 'a', 'a', 'a', 'e', 'g', 'f', 'd', 'g', 'f', 'd', 'g']"
      ]
     },
     "execution_count": 20,
     "metadata": {},
     "output_type": "execute_result"
    }
   ],
   "source": [
    "s11.most_likely_path('g')"
   ]
  },
  {
   "cell_type": "markdown",
   "metadata": {},
   "source": [
    "Wow... that might have actually worked."
   ]
  },
  {
   "cell_type": "markdown",
   "metadata": {},
   "source": [
    "So... say we want to make the transition in 10 steps. Actually, we want 11, for the cases [0, 0.1, 0.2, ..., 0.9, 1.0]"
   ]
  },
  {
   "cell_type": "markdown",
   "metadata": {},
   "source": [
    "So for *n* steps, want steps:"
   ]
  },
  {
   "cell_type": "code",
   "execution_count": 21,
   "metadata": {},
   "outputs": [
    {
     "data": {
      "text/plain": [
       "[1.0, 0.8, 0.6, 0.4, 0.19999999999999996, 0.0]"
      ]
     },
     "execution_count": 21,
     "metadata": {},
     "output_type": "execute_result"
    }
   ],
   "source": [
    "numSteps_i=5\n",
    "\n",
    "[1-(x/numSteps_i) for x in range(numSteps_i+1)]"
   ]
  },
  {
   "cell_type": "code",
   "execution_count": 22,
   "metadata": {},
   "outputs": [
    {
     "data": {
      "text/plain": [
       "[0.8, 0.6, 0.4, 0.2, 0.0]"
      ]
     },
     "execution_count": 22,
     "metadata": {},
     "output_type": "execute_result"
    }
   ],
   "source": [
    "[i for i in reversed([x/numSteps_i for x in range(numSteps_i)])]\n",
    "    "
   ]
  },
  {
   "cell_type": "markdown",
   "metadata": {},
   "source": [
    "And to calculate the path, want:"
   ]
  },
  {
   "cell_type": "code",
   "execution_count": 23,
   "metadata": {},
   "outputs": [
    {
     "data": {
      "text/plain": [
       "['a', 'a', 'a', 'a', 'e', 'g', 'f', 'd', 'g', 'f', 'd', 'g']"
      ]
     },
     "execution_count": 23,
     "metadata": {},
     "output_type": "execute_result"
    }
   ],
   "source": [
    "# Starting with a MM in test1_mm\n",
    "# A second MM in test2_mm\n",
    "# A number of steps in numSteps_i\n",
    "\n",
    "numSteps_i=10\n",
    "\n",
    "# Start with an initial state, from 100% MM1. Here, use 'a':\n",
    "\n",
    "merged_mm=mm.merge(test1_mm, test2_mm, 1)\n",
    "state_ms=merged_mm.apply(['a'])\n",
    "\n",
    "# Now do the rest of the cases:\n",
    "\n",
    "for weighting in reversed([x/numSteps_i for x in range(numSteps_i)]):\n",
    "    merged_mm=mm.merge(test1_mm, test2_mm, weighting)\n",
    "    state_ms=merged_mm.apply(state_ms)\n",
    "\n",
    "# And find most likely path to 'g':\n",
    "state_ms.most_likely_path('g')"
   ]
  },
  {
   "cell_type": "code",
   "execution_count": 24,
   "metadata": {},
   "outputs": [
    {
     "data": {
      "text/plain": [
       "[0.9, 0.8, 0.7, 0.6, 0.5, 0.4, 0.3, 0.2, 0.1, 0.0]"
      ]
     },
     "execution_count": 24,
     "metadata": {},
     "output_type": "execute_result"
    }
   ],
   "source": [
    "[i for i in reversed([x/numSteps_i for x in range(numSteps_i)])]"
   ]
  },
  {
   "cell_type": "code",
   "execution_count": 25,
   "metadata": {},
   "outputs": [
    {
     "data": {
      "text/plain": [
       "array([[ 0.4       ,  0.2       ,  0.2       ,  0.        ,  0.2       ],\n",
       "       [ 0.        ,  0.        ,  0.        ,  0.        ,  0.        ],\n",
       "       [ 0.        ,  0.16666667,  0.16666667,  0.33333333,  0.33333333],\n",
       "       [ 0.33333333,  0.16666667,  0.33333333,  0.        ,  0.16666667],\n",
       "       [ 0.66666667,  0.        ,  0.33333333,  0.        ,  0.        ]])"
      ]
     },
     "execution_count": 25,
     "metadata": {},
     "output_type": "execute_result"
    }
   ],
   "source": [
    "test1_mm.transitionMatrix_ar"
   ]
  },
  {
   "cell_type": "markdown",
   "metadata": {},
   "source": [
    "OK, that seems to be working..."
   ]
  },
  {
   "cell_type": "markdown",
   "metadata": {},
   "source": [
    "Now to try it on some real data."
   ]
  },
  {
   "cell_type": "code",
   "execution_count": null,
   "metadata": {
    "collapsed": true
   },
   "outputs": [],
   "source": []
  }
 ],
 "metadata": {
  "kernelspec": {
   "display_name": "Python [conda root]",
   "language": "python",
   "name": "conda-root-py"
  },
  "language_info": {
   "codemirror_mode": {
    "name": "ipython",
    "version": 3
   },
   "file_extension": ".py",
   "mimetype": "text/x-python",
   "name": "python",
   "nbconvert_exporter": "python",
   "pygments_lexer": "ipython3",
   "version": "3.5.4"
  }
 },
 "nbformat": 4,
 "nbformat_minor": 2
}
