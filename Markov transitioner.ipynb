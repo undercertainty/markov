{
 "cells": [
  {
   "cell_type": "markdown",
   "metadata": {},
   "source": [
    "# Markov transitioner. Attempt 1."
   ]
  },
  {
   "cell_type": "markdown",
   "metadata": {},
   "source": [
    "This notebook uses the markov models implemented in the markovmodel.py library to find the most likely path through a transitioning network.\n",
    "\n",
    "That is, if we have, say, 10 steps, and are using two MMs, MM1 and MM2, then the first step will use a MM that's 90% MM1 and 10% MM2, then 80% MM1 and 20% MM2 and so on.\n",
    "\n",
    "The aim is to try to find smooth transitions between sequential data sources."
   ]
  },
  {
   "cell_type": "raw",
   "metadata": {},
   "source": [
    "First, import the markov model library:"
   ]
  },
  {
   "cell_type": "code",
   "execution_count": 1,
   "metadata": {},
   "outputs": [],
   "source": [
    "import markovmodels as mm"
   ]
  },
  {
   "cell_type": "markdown",
   "metadata": {},
   "source": [
    "Now, let's define a random MM which uses the states in {'a', 'b', 'c', 'd', 'e'}:"
   ]
  },
  {
   "cell_type": "code",
   "execution_count": 2,
   "metadata": {
    "collapsed": true
   },
   "outputs": [],
   "source": [
    "from random import randint"
   ]
  },
  {
   "cell_type": "code",
   "execution_count": 6,
   "metadata": {},
   "outputs": [
    {
     "data": {
      "text/html": [
       "<div>\n",
       "<style>\n",
       "    .dataframe thead tr:only-child th {\n",
       "        text-align: right;\n",
       "    }\n",
       "\n",
       "    .dataframe thead th {\n",
       "        text-align: left;\n",
       "    }\n",
       "\n",
       "    .dataframe tbody tr th {\n",
       "        vertical-align: top;\n",
       "    }\n",
       "</style>\n",
       "<table border=\"1\" class=\"dataframe\">\n",
       "  <thead>\n",
       "    <tr style=\"text-align: right;\">\n",
       "      <th></th>\n",
       "      <th>a</th>\n",
       "      <th>b</th>\n",
       "      <th>c</th>\n",
       "      <th>d</th>\n",
       "      <th>e</th>\n",
       "    </tr>\n",
       "  </thead>\n",
       "  <tbody>\n",
       "    <tr>\n",
       "      <th>a</th>\n",
       "      <td>0.333333</td>\n",
       "      <td>0.166667</td>\n",
       "      <td>0.000000</td>\n",
       "      <td>0.166667</td>\n",
       "      <td>0.333333</td>\n",
       "    </tr>\n",
       "    <tr>\n",
       "      <th>b</th>\n",
       "      <td>0.166667</td>\n",
       "      <td>0.166667</td>\n",
       "      <td>0.333333</td>\n",
       "      <td>0.333333</td>\n",
       "      <td>0.000000</td>\n",
       "    </tr>\n",
       "    <tr>\n",
       "      <th>c</th>\n",
       "      <td>0.666667</td>\n",
       "      <td>0.000000</td>\n",
       "      <td>0.000000</td>\n",
       "      <td>0.333333</td>\n",
       "      <td>0.000000</td>\n",
       "    </tr>\n",
       "    <tr>\n",
       "      <th>d</th>\n",
       "      <td>1.000000</td>\n",
       "      <td>0.000000</td>\n",
       "      <td>0.000000</td>\n",
       "      <td>0.000000</td>\n",
       "      <td>0.000000</td>\n",
       "    </tr>\n",
       "    <tr>\n",
       "      <th>e</th>\n",
       "      <td>0.000000</td>\n",
       "      <td>0.000000</td>\n",
       "      <td>0.000000</td>\n",
       "      <td>0.500000</td>\n",
       "      <td>0.500000</td>\n",
       "    </tr>\n",
       "  </tbody>\n",
       "</table>\n",
       "</div>"
      ],
      "text/plain": [
       "          a         b         c         d         e\n",
       "a  0.333333  0.166667  0.000000  0.166667  0.333333\n",
       "b  0.166667  0.166667  0.333333  0.333333  0.000000\n",
       "c  0.666667  0.000000  0.000000  0.333333  0.000000\n",
       "d  1.000000  0.000000  0.000000  0.000000  0.000000\n",
       "e  0.000000  0.000000  0.000000  0.500000  0.500000"
      ]
     },
     "execution_count": 6,
     "metadata": {},
     "output_type": "execute_result"
    }
   ],
   "source": [
    "states_ls=['a', 'b', 'c', 'd', 'e']\n",
    "\n",
    "test1_mm=mm.MarkovModel([(states_ls[randint(0, len(states_ls)-1)],\n",
    "                          states_ls[randint(0, len(states_ls)-1)])\n",
    "                         for i in range(20)],\n",
    "                        [states_ls[randint(0, len(states_ls)-1)]\n",
    "                         for i in range(10)]\n",
    "                        )\n",
    "test1_mm.transitionMatrix_df"
   ]
  },
  {
   "cell_type": "markdown",
   "metadata": {},
   "source": [
    "And another random MM which uses the states in {'c', 'd', 'e', 'f', 'g'}:"
   ]
  },
  {
   "cell_type": "code",
   "execution_count": 7,
   "metadata": {},
   "outputs": [
    {
     "data": {
      "text/html": [
       "<div>\n",
       "<style>\n",
       "    .dataframe thead tr:only-child th {\n",
       "        text-align: right;\n",
       "    }\n",
       "\n",
       "    .dataframe thead th {\n",
       "        text-align: left;\n",
       "    }\n",
       "\n",
       "    .dataframe tbody tr th {\n",
       "        vertical-align: top;\n",
       "    }\n",
       "</style>\n",
       "<table border=\"1\" class=\"dataframe\">\n",
       "  <thead>\n",
       "    <tr style=\"text-align: right;\">\n",
       "      <th></th>\n",
       "      <th>c</th>\n",
       "      <th>d</th>\n",
       "      <th>e</th>\n",
       "      <th>f</th>\n",
       "      <th>g</th>\n",
       "    </tr>\n",
       "  </thead>\n",
       "  <tbody>\n",
       "    <tr>\n",
       "      <th>c</th>\n",
       "      <td>0.500000</td>\n",
       "      <td>0.166667</td>\n",
       "      <td>0.000000</td>\n",
       "      <td>0.166667</td>\n",
       "      <td>0.166667</td>\n",
       "    </tr>\n",
       "    <tr>\n",
       "      <th>d</th>\n",
       "      <td>0.000000</td>\n",
       "      <td>0.333333</td>\n",
       "      <td>0.333333</td>\n",
       "      <td>0.000000</td>\n",
       "      <td>0.333333</td>\n",
       "    </tr>\n",
       "    <tr>\n",
       "      <th>e</th>\n",
       "      <td>0.333333</td>\n",
       "      <td>0.333333</td>\n",
       "      <td>0.000000</td>\n",
       "      <td>0.166667</td>\n",
       "      <td>0.166667</td>\n",
       "    </tr>\n",
       "    <tr>\n",
       "      <th>f</th>\n",
       "      <td>0.000000</td>\n",
       "      <td>0.000000</td>\n",
       "      <td>0.500000</td>\n",
       "      <td>0.500000</td>\n",
       "      <td>0.000000</td>\n",
       "    </tr>\n",
       "    <tr>\n",
       "      <th>g</th>\n",
       "      <td>0.000000</td>\n",
       "      <td>0.333333</td>\n",
       "      <td>0.000000</td>\n",
       "      <td>0.666667</td>\n",
       "      <td>0.000000</td>\n",
       "    </tr>\n",
       "  </tbody>\n",
       "</table>\n",
       "</div>"
      ],
      "text/plain": [
       "          c         d         e         f         g\n",
       "c  0.500000  0.166667  0.000000  0.166667  0.166667\n",
       "d  0.000000  0.333333  0.333333  0.000000  0.333333\n",
       "e  0.333333  0.333333  0.000000  0.166667  0.166667\n",
       "f  0.000000  0.000000  0.500000  0.500000  0.000000\n",
       "g  0.000000  0.333333  0.000000  0.666667  0.000000"
      ]
     },
     "execution_count": 7,
     "metadata": {},
     "output_type": "execute_result"
    }
   ],
   "source": [
    "states_ls=['c', 'd', 'e', 'f', 'g']\n",
    "\n",
    "test2_mm=mm.MarkovModel([(states_ls[randint(0, len(states_ls)-1)],\n",
    "                          states_ls[randint(0, len(states_ls)-1)])\n",
    "                         for i in range(20)],\n",
    "                        [states_ls[randint(0, len(states_ls)-1)]\n",
    "                         for i in range(10)]\n",
    "                        )\n",
    "test2_mm.transitionMatrix_df"
   ]
  },
  {
   "cell_type": "markdown",
   "metadata": {},
   "source": [
    "So we can go from, say, state 'a' to state 'd' in MM1:"
   ]
  },
  {
   "cell_type": "code",
   "execution_count": 8,
   "metadata": {},
   "outputs": [
    {
     "data": {
      "text/plain": [
       "['a', 'e', 'd', 'a', 'e', 'd']"
      ]
     },
     "execution_count": 8,
     "metadata": {},
     "output_type": "execute_result"
    }
   ],
   "source": [
    "# Let's try it in 5 steps\n",
    "test1_mm.apply(['a'], 5).most_likely_path('d')"
   ]
  },
  {
   "cell_type": "markdown",
   "metadata": {},
   "source": [
    "and state 'd' to state 'g' in MM2:"
   ]
  },
  {
   "cell_type": "code",
   "execution_count": 9,
   "metadata": {},
   "outputs": [
    {
     "data": {
      "text/plain": [
       "['d', 'g', 'f', 'e', 'd', 'g']"
      ]
     },
     "execution_count": 9,
     "metadata": {},
     "output_type": "execute_result"
    }
   ],
   "source": [
    "# Let's try it in 5 steps\n",
    "test2_mm.apply(['d'], 5).most_likely_path('g')"
   ]
  },
  {
   "cell_type": "markdown",
   "metadata": {},
   "source": [
    "but 'a' is not in MM2, and 'g' is not in MM1, so we need to combine them. And we can do that with a number of steps. Let's assume we're using 10."
   ]
  },
  {
   "cell_type": "markdown",
   "metadata": {},
   "source": [
    "Start with a 100% of MM1:"
   ]
  },
  {
   "cell_type": "code",
   "execution_count": 10,
   "metadata": {},
   "outputs": [
    {
     "data": {
      "text/plain": [
       "a    0.333333\n",
       "b    0.166667\n",
       "c    0.000000\n",
       "d    0.166667\n",
       "e    0.333333\n",
       "f    0.000000\n",
       "g    0.000000\n",
       "dtype: float64"
      ]
     },
     "execution_count": 10,
     "metadata": {},
     "output_type": "execute_result"
    }
   ],
   "source": [
    "merge_mm=mm.merge(test1_mm, test2_mm, 1)\n",
    "s1=merge_mm.apply(['a'])\n",
    "s1.get_current_state_distribution()"
   ]
  },
  {
   "cell_type": "markdown",
   "metadata": {},
   "source": [
    "Next do 90% of MM1:"
   ]
  },
  {
   "cell_type": "code",
   "execution_count": 11,
   "metadata": {},
   "outputs": [
    {
     "data": {
      "text/plain": [
       "a    0.150000\n",
       "b    0.050000\n",
       "c    0.050000\n",
       "d    0.161111\n",
       "e    0.150000\n",
       "f    0.005556\n",
       "g    0.005556\n",
       "dtype: float64"
      ]
     },
     "execution_count": 11,
     "metadata": {},
     "output_type": "execute_result"
    }
   ],
   "source": [
    "merge_mm=mm.merge(test1_mm, test2_mm, 0.9)\n",
    "s2=merge_mm.apply(s1)\n",
    "s2.get_current_state_distribution()"
   ]
  },
  {
   "cell_type": "markdown",
   "metadata": {},
   "source": [
    "Next do 80% of MM1:"
   ]
  },
  {
   "cell_type": "code",
   "execution_count": 12,
   "metadata": {},
   "outputs": [
    {
     "data": {
      "text/plain": [
       "a    0.128889\n",
       "b    0.020000\n",
       "c    0.013333\n",
       "d    0.070000\n",
       "e    0.060000\n",
       "f    0.005000\n",
       "g    0.010741\n",
       "dtype: float64"
      ]
     },
     "execution_count": 12,
     "metadata": {},
     "output_type": "execute_result"
    }
   ],
   "source": [
    "merge_mm=mm.merge(test1_mm, test2_mm, 0.8)\n",
    "s3=merge_mm.apply(s2)\n",
    "s3.get_current_state_distribution()"
   ]
  },
  {
   "cell_type": "markdown",
   "metadata": {},
   "source": [
    "Next do 70% of MM1:"
   ]
  },
  {
   "cell_type": "code",
   "execution_count": 13,
   "metadata": {},
   "outputs": [
    {
     "data": {
      "text/plain": [
       "a    0.049000\n",
       "b    0.015037\n",
       "c    0.006000\n",
       "d    0.027000\n",
       "e    0.030074\n",
       "f    0.003000\n",
       "g    0.007000\n",
       "dtype: float64"
      ]
     },
     "execution_count": 13,
     "metadata": {},
     "output_type": "execute_result"
    }
   ],
   "source": [
    "merge_mm=mm.merge(test1_mm, test2_mm, 0.7)\n",
    "s4=merge_mm.apply(s3)\n",
    "s4.get_current_state_distribution()"
   ]
  },
  {
   "cell_type": "markdown",
   "metadata": {},
   "source": [
    "and so on..."
   ]
  },
  {
   "cell_type": "code",
   "execution_count": 14,
   "metadata": {},
   "outputs": [
    {
     "data": {
      "text/plain": [
       "a    0.016200\n",
       "b    0.004900\n",
       "c    0.004010\n",
       "d    0.013032\n",
       "e    0.009800\n",
       "f    0.002005\n",
       "g    0.003600\n",
       "dtype: float64"
      ]
     },
     "execution_count": 14,
     "metadata": {},
     "output_type": "execute_result"
    }
   ],
   "source": [
    "merge_mm=mm.merge(test1_mm, test2_mm, 0.6)\n",
    "s5=merge_mm.apply(s4)\n",
    "s5.get_current_state_distribution()"
   ]
  },
  {
   "cell_type": "code",
   "execution_count": 15,
   "metadata": {},
   "outputs": [
    {
     "data": {
      "text/plain": [
       "a    0.006516\n",
       "b    0.001350\n",
       "c    0.001633\n",
       "d    0.004083\n",
       "e    0.002700\n",
       "f    0.001200\n",
       "g    0.002172\n",
       "dtype: float64"
      ]
     },
     "execution_count": 15,
     "metadata": {},
     "output_type": "execute_result"
    }
   ],
   "source": [
    "merge_mm=mm.merge(test1_mm, test2_mm, 0.5)\n",
    "s6=merge_mm.apply(s5)\n",
    "s6.get_current_state_distribution()"
   ]
  },
  {
   "cell_type": "code",
   "execution_count": 16,
   "metadata": {},
   "outputs": [
    {
     "data": {
      "text/plain": [
       "a    0.001633\n",
       "b    0.000434\n",
       "c    0.000540\n",
       "d    0.001080\n",
       "e    0.000869\n",
       "f    0.000869\n",
       "g    0.000817\n",
       "dtype: float64"
      ]
     },
     "execution_count": 16,
     "metadata": {},
     "output_type": "execute_result"
    }
   ],
   "source": [
    "merge_mm=mm.merge(test1_mm, test2_mm, 0.4)\n",
    "s7=merge_mm.apply(s6)\n",
    "s7.get_current_state_distribution()"
   ]
  },
  {
   "cell_type": "code",
   "execution_count": 17,
   "metadata": {},
   "outputs": [
    {
     "data": {
      "text/plain": [
       "a    0.000324\n",
       "b    0.000082\n",
       "c    0.000203\n",
       "d    0.000333\n",
       "e    0.000304\n",
       "f    0.000381\n",
       "g    0.000252\n",
       "dtype: float64"
      ]
     },
     "execution_count": 17,
     "metadata": {},
     "output_type": "execute_result"
    }
   ],
   "source": [
    "merge_mm=mm.merge(test1_mm, test2_mm, 0.3)\n",
    "s8=merge_mm.apply(s7)\n",
    "s8.get_current_state_distribution()"
   ]
  },
  {
   "cell_type": "code",
   "execution_count": 18,
   "metadata": {},
   "outputs": [
    {
     "data": {
      "text/plain": [
       "a    0.000067\n",
       "b    0.000011\n",
       "c    0.000081\n",
       "d    0.000111\n",
       "e    0.000152\n",
       "f    0.000152\n",
       "g    0.000089\n",
       "dtype: float64"
      ]
     },
     "execution_count": 18,
     "metadata": {},
     "output_type": "execute_result"
    }
   ],
   "source": [
    "merge_mm=mm.merge(test1_mm, test2_mm, 0.2)\n",
    "s9=merge_mm.apply(s8)\n",
    "s9.get_current_state_distribution()"
   ]
  },
  {
   "cell_type": "code",
   "execution_count": 19,
   "metadata": {},
   "outputs": [
    {
     "data": {
      "text/plain": [
       "a    0.000011\n",
       "b    0.000001\n",
       "c    0.000046\n",
       "d    0.000053\n",
       "e    0.000069\n",
       "f    0.000069\n",
       "g    0.000033\n",
       "dtype: float64"
      ]
     },
     "execution_count": 19,
     "metadata": {},
     "output_type": "execute_result"
    }
   ],
   "source": [
    "merge_mm=mm.merge(test1_mm, test2_mm, 0.1)\n",
    "s10=merge_mm.apply(s9)\n",
    "s10.get_current_state_distribution()"
   ]
  },
  {
   "cell_type": "code",
   "execution_count": 20,
   "metadata": {},
   "outputs": [
    {
     "data": {
      "text/plain": [
       "a    0.000000\n",
       "b    0.000000\n",
       "c    0.000023\n",
       "d    0.000023\n",
       "e    0.000034\n",
       "f    0.000034\n",
       "g    0.000018\n",
       "dtype: float64"
      ]
     },
     "execution_count": 20,
     "metadata": {},
     "output_type": "execute_result"
    }
   ],
   "source": [
    "merge_mm=mm.merge(test1_mm, test2_mm, 0)\n",
    "s11=merge_mm.apply(s10)\n",
    "s11.get_current_state_distribution()"
   ]
  },
  {
   "cell_type": "code",
   "execution_count": 21,
   "metadata": {},
   "outputs": [
    {
     "data": {
      "text/plain": [
       "a    0.000000\n",
       "b    0.000000\n",
       "c    0.000023\n",
       "d    0.000023\n",
       "e    0.000034\n",
       "f    0.000034\n",
       "g    0.000018\n",
       "dtype: float64"
      ]
     },
     "execution_count": 21,
     "metadata": {},
     "output_type": "execute_result"
    }
   ],
   "source": [
    "s11.get_current_state_distribution()"
   ]
  },
  {
   "cell_type": "markdown",
   "metadata": {},
   "source": [
    "Now, if we get the path to 'g', then we'd hope to see more of the MM1 states in the first half, and more of the MM2 states in the second half:"
   ]
  },
  {
   "cell_type": "code",
   "execution_count": 22,
   "metadata": {},
   "outputs": [
    {
     "data": {
      "text/plain": [
       "['a', 'e', 'e', 'd', 'a', 'e', 'd', 'g', 'f', 'e', 'd', 'g']"
      ]
     },
     "execution_count": 22,
     "metadata": {},
     "output_type": "execute_result"
    }
   ],
   "source": [
    "s11.most_likely_path('g')"
   ]
  },
  {
   "cell_type": "markdown",
   "metadata": {},
   "source": [
    "Wow... that might have actually worked."
   ]
  },
  {
   "cell_type": "markdown",
   "metadata": {},
   "source": [
    "So... say we want to make the transition in 10 steps. Actually, we want 11, for the cases [0, 0.1, 0.2, ..., 0.9, 1.0]"
   ]
  },
  {
   "cell_type": "markdown",
   "metadata": {},
   "source": [
    "So for *n* steps, want steps:"
   ]
  },
  {
   "cell_type": "code",
   "execution_count": 27,
   "metadata": {},
   "outputs": [
    {
     "data": {
      "text/plain": [
       "[1.0,\n",
       " 0.9,\n",
       " 0.8,\n",
       " 0.7,\n",
       " 0.6,\n",
       " 0.5,\n",
       " 0.4,\n",
       " 0.30000000000000004,\n",
       " 0.19999999999999996,\n",
       " 0.09999999999999998,\n",
       " 0.0]"
      ]
     },
     "execution_count": 27,
     "metadata": {},
     "output_type": "execute_result"
    }
   ],
   "source": [
    "numSteps_i=10\n",
    "\n",
    "transitionWeights_ls=[1-(x/numSteps_i) for x in range(numSteps_i+1)]\n",
    "\n",
    "transitionWeights_ls"
   ]
  },
  {
   "cell_type": "markdown",
   "metadata": {},
   "source": [
    "And to calculate the path, want:"
   ]
  },
  {
   "cell_type": "code",
   "execution_count": 28,
   "metadata": {},
   "outputs": [
    {
     "data": {
      "text/plain": [
       "['a', 'e', 'e', 'd', 'a', 'e', 'd', 'g', 'f', 'e', 'd', 'g']"
      ]
     },
     "execution_count": 28,
     "metadata": {},
     "output_type": "execute_result"
    }
   ],
   "source": [
    "# Starting with a MM in test1_mm\n",
    "# A second MM in test2_mm\n",
    "# A number of steps in numSteps_i\n",
    "\n",
    "numSteps_i=10\n",
    "\n",
    "transitionWeights_ls=[1-(x/numSteps_i) for x in range(numSteps_i+1)]\n",
    "\n",
    "# Start with an initial state. Here, use 'a':\n",
    "\n",
    "merged_mm=mm.merge(test1_mm, test2_mm, 1)\n",
    "state_ms=merged_mm.create_markov_state(['a'])\n",
    "\n",
    "# Now do the rest of the cases:\n",
    "\n",
    "for weight_f in transitionWeights_ls:\n",
    "    merged_mm=mm.merge(test1_mm, test2_mm, weight_f)\n",
    "    state_ms=merged_mm.apply(state_ms)\n",
    "\n",
    "# And find most likely path to 'g':\n",
    "state_ms.most_likely_path('g')"
   ]
  },
  {
   "cell_type": "code",
   "execution_count": null,
   "metadata": {},
   "outputs": [],
   "source": [
    "test1_mm.transitionMatrix_ar"
   ]
  },
  {
   "cell_type": "markdown",
   "metadata": {},
   "source": [
    "OK, that seems to be working..."
   ]
  },
  {
   "cell_type": "markdown",
   "metadata": {},
   "source": [
    "Now to try it on some real data."
   ]
  },
  {
   "cell_type": "code",
   "execution_count": null,
   "metadata": {
    "collapsed": true
   },
   "outputs": [],
   "source": []
  }
 ],
 "metadata": {
  "kernelspec": {
   "display_name": "Python [conda root]",
   "language": "python",
   "name": "conda-root-py"
  },
  "language_info": {
   "codemirror_mode": {
    "name": "ipython",
    "version": 3
   },
   "file_extension": ".py",
   "mimetype": "text/x-python",
   "name": "python",
   "nbconvert_exporter": "python",
   "pygments_lexer": "ipython3",
   "version": "3.5.4"
  }
 },
 "nbformat": 4,
 "nbformat_minor": 2
}
