{
 "cells": [
  {
   "cell_type": "markdown",
   "metadata": {},
   "source": [
    "# Markov Model constructor"
   ]
  },
  {
   "cell_type": "markdown",
   "metadata": {},
   "source": [
    "In this notebook, I want to build a constructor for a Markov model. "
   ]
  },
  {
   "cell_type": "code",
   "execution_count": 13,
   "metadata": {
    "collapsed": true
   },
   "outputs": [],
   "source": [
    "# Put all the imports at the beginning\n",
    "\n",
    "import numpy as np"
   ]
  },
  {
   "cell_type": "markdown",
   "metadata": {},
   "source": [
    "Although it's not the only way of defining a Markov model, for the moment, I'm going to do the definition by taking arguments in the constructor that "
   ]
  },
  {
   "cell_type": "code",
   "execution_count": 52,
   "metadata": {
    "collapsed": true
   },
   "outputs": [],
   "source": [
    "class MarkovModel:\n",
    "    \n",
    "    def __init__(self, initialStates_ls, transitions_ls, extraStates_ls=[]):\n",
    "        '''\n",
    "        Take a list of initial states, and a list of pairs of transitions\n",
    "        between states. Create a Markov model based on the distribution of\n",
    "        initial states, and distribution of transitions.\n",
    "        \n",
    "        extraStates_ls is a list of additional states which do not appear\n",
    "        in the two lists initialStates_ls and transitions_ls.\n",
    "        '''\n",
    "        \n",
    "        # First, build the list of all states in the model\n",
    "        self.states_ls=list({x for x in initialStates_ls}. \\\n",
    "                              union({x for (x, y) in transitions_ls}). \\\n",
    "                              union({y for (x, y) in transitions_ls}). \\\n",
    "                              union(set(extraStates_ls)))\n",
    "        self.states_ls.sort() # just for aesthetics\n",
    "\n",
    "        # Now build an array that contains the initial states\n",
    "        self.initialState_ar=np.array([initialStates_ls.count(state) \n",
    "                                       for state in self.states_ls])\n",
    "        # and normalise the values so the prob.s sum to 1\n",
    "        self.initialState_ar=self.initialState_ar/np.sum(self.initialState_ar)\n",
    "        \n",
    "        # Now build an array that encodes the transitions\n",
    "        self.transitionMatrix_ar=np.zeros((len(self.states_ls), \n",
    "                                           len(self.states_ls)), \n",
    "                                          dtype=np.float)  # Normally int, but we're\n",
    "                                                           # going to normalise\n",
    "        for (x, y) in transitions_ls:\n",
    "            self.transitionMatrix_ar[self.states_ls.index(x)][self.states_ls.index(y)]+=1\n",
    "        for (i, r) in enumerate(self.transitionMatrix_ar):\n",
    "            if np.sum(self.transitionMatrix_ar[i])>0:\n",
    "                self.transitionMatrix_ar[i]=self.transitionMatrix_ar[i]/sum(self.transitionMatrix_ar[i])\n"
   ]
  },
  {
   "cell_type": "code",
   "execution_count": null,
   "metadata": {
    "collapsed": true
   },
   "outputs": [],
   "source": []
  },
  {
   "cell_type": "code",
   "execution_count": null,
   "metadata": {
    "collapsed": true
   },
   "outputs": [],
   "source": []
  },
  {
   "cell_type": "code",
   "execution_count": null,
   "metadata": {
    "collapsed": true
   },
   "outputs": [],
   "source": []
  },
  {
   "cell_type": "markdown",
   "metadata": {},
   "source": [
    "## Create input of a set of transitions and initial states"
   ]
  },
  {
   "cell_type": "markdown",
   "metadata": {},
   "source": [
    "We'll assume that the model is to be built from a set of pairs, where each pair (X, Y) represents a single occurrence of a transition from state X to state Y."
   ]
  },
  {
   "cell_type": "code",
   "execution_count": 38,
   "metadata": {
    "collapsed": true
   },
   "outputs": [],
   "source": [
    "transitions_ls=[('a', 'a'), ('a', 'b'), ('a', 'b'), ('a', 'b'), ('a', 'b'), \n",
    "                ('a', 'c'), ('a', 'c'), ('a', 'c'), ('a', 'c'), ('a', 'c'), \n",
    "                ('b', 'a'), ('b', 'b'), ('b', 'b'), ('b', 'b'), ('b', 'b'), \n",
    "                ('b', 'b'), ('b', 'b'), ('b', 'b'), ('b', 'b'), ('b', 'c'),\n",
    "                ('c', 'a'), ('c', 'a'), ('c', 'a'), ('c', 'b'), ('c', 'b'),\n",
    "                ('c', 'b'), ('c', 'b'), ('c', 'c'), ('c', 'c'), ('c', 'c')]"
   ]
  },
  {
   "cell_type": "code",
   "execution_count": 66,
   "metadata": {
    "collapsed": true
   },
   "outputs": [],
   "source": [
    "transitions_ls=[('a', 'a'), ('a', 'a'), ('a', 'a'), ('a', 'a'), ('a', 'b'), \n",
    "                ('a', 'b'), ('a', 'c'), ('a', 'c'), ('a', 'c'), ('a', 'c'), \n",
    "                ('b', 'a'), ('b', 'a'), ('b', 'b'), ('b', 'b'), ('b', 'b'), \n",
    "                ('b', 'b'), ('b', 'c'), ('b', 'c'), ('b', 'c'), ('b', 'c'),\n",
    "                ('c', 'a'), ('c', 'a'), ('c', 'a'), ('c', 'b'), ('c', 'b'),\n",
    "                ('c', 'b'), ('c', 'b'), ('c', 'c'), ('c', 'c'), ('c', 'c')]"
   ]
  },
  {
   "cell_type": "markdown",
   "metadata": {},
   "source": [
    "And let's shuffle them, just for good measure:"
   ]
  },
  {
   "cell_type": "code",
   "execution_count": 67,
   "metadata": {},
   "outputs": [
    {
     "data": {
      "text/plain": [
       "[('b', 'c'), ('b', 'a'), ('a', 'a'), ('b', 'b'), ('b', 'b')]"
      ]
     },
     "execution_count": 67,
     "metadata": {},
     "output_type": "execute_result"
    }
   ],
   "source": [
    "random.shuffle(transitions_ls)\n",
    "transitions_ls[:5]"
   ]
  },
  {
   "cell_type": "markdown",
   "metadata": {},
   "source": [
    "We also need the initial states, which we can also represent as a list."
   ]
  },
  {
   "cell_type": "code",
   "execution_count": 14,
   "metadata": {},
   "outputs": [
    {
     "data": {
      "text/plain": [
       "array([3, 6, 5, 7, 2, 1, 6])"
      ]
     },
     "execution_count": 14,
     "metadata": {},
     "output_type": "execute_result"
    }
   ],
   "source": [
    "a=np.array([3,6,5,7,2,1,6])\n",
    "a"
   ]
  },
  {
   "cell_type": "code",
   "execution_count": 18,
   "metadata": {},
   "outputs": [
    {
     "data": {
      "text/plain": [
       "array([ 0.1       ,  0.2       ,  0.16666667,  0.23333333,  0.06666667,\n",
       "        0.03333333,  0.2       ])"
      ]
     },
     "execution_count": 18,
     "metadata": {},
     "output_type": "execute_result"
    }
   ],
   "source": [
    "a/np.sum(a)"
   ]
  },
  {
   "cell_type": "code",
   "execution_count": 53,
   "metadata": {},
   "outputs": [
    {
     "data": {
      "text/plain": [
       "['a', 'b', 'c', 'd', 'e']"
      ]
     },
     "execution_count": 53,
     "metadata": {},
     "output_type": "execute_result"
    }
   ],
   "source": [
    "mm=MarkovModel(['a'], transitions_ls, ['b', 'c', 'd', 'e'])\n",
    "\n",
    "mm.states_ls"
   ]
  },
  {
   "cell_type": "code",
   "execution_count": 54,
   "metadata": {},
   "outputs": [
    {
     "data": {
      "text/plain": [
       "array([ 1.,  0.,  0.,  0.,  0.])"
      ]
     },
     "execution_count": 54,
     "metadata": {},
     "output_type": "execute_result"
    }
   ],
   "source": [
    "mm.initialState_ar"
   ]
  },
  {
   "cell_type": "code",
   "execution_count": 55,
   "metadata": {},
   "outputs": [
    {
     "data": {
      "text/plain": [
       "array([[ 0.1,  0.4,  0.5,  0. ,  0. ],\n",
       "       [ 0.1,  0.8,  0.1,  0. ,  0. ],\n",
       "       [ 0.3,  0.4,  0.3,  0. ,  0. ],\n",
       "       [ 0. ,  0. ,  0. ,  0. ,  0. ],\n",
       "       [ 0. ,  0. ,  0. ,  0. ,  0. ]])"
      ]
     },
     "execution_count": 55,
     "metadata": {},
     "output_type": "execute_result"
    }
   ],
   "source": [
    "mm.transitionMatrix_ar"
   ]
  },
  {
   "cell_type": "markdown",
   "metadata": {},
   "source": [
    "## Given the transitions, convert them to a Markov model"
   ]
  },
  {
   "cell_type": "markdown",
   "metadata": {},
   "source": [
    "The Markov model will consist of an initial distribution of states, and a transition matrix. These will be based on the initial state list and transition lists given in the previous section."
   ]
  },
  {
   "cell_type": "markdown",
   "metadata": {},
   "source": [
    "Now get the set of states, and convert them to a list so they can be used for indexing. (Only sorting the list for aesthetic purposes):"
   ]
  },
  {
   "cell_type": "code",
   "execution_count": 69,
   "metadata": {},
   "outputs": [
    {
     "data": {
      "text/plain": [
       "['a', 'b', 'c']"
      ]
     },
     "execution_count": 69,
     "metadata": {},
     "output_type": "execute_result"
    }
   ],
   "source": [
    "states_set={x for (x, y) in transitions_ls}.union({y for (x, y) in transitions_ls}).union({z for z in initialStates_ls})\n",
    "\n",
    "markovModelStates_ls=sorted(list(states_set))\n",
    "markovModelStates_ls"
   ]
  },
  {
   "cell_type": "markdown",
   "metadata": {},
   "source": [
    "Now we create an numpy array, which we will use as the transition matrix:"
   ]
  },
  {
   "cell_type": "code",
   "execution_count": 70,
   "metadata": {},
   "outputs": [
    {
     "data": {
      "text/plain": [
       "array([[0, 0, 0],\n",
       "       [0, 0, 0],\n",
       "       [0, 0, 0]])"
      ]
     },
     "execution_count": 70,
     "metadata": {},
     "output_type": "execute_result"
    }
   ],
   "source": [
    "transitionCount_ar=np.zeros((len(markovModelStates_ls), len(markovModelStates_ls)), dtype=np.int)\n",
    "transitionCount_ar"
   ]
  },
  {
   "cell_type": "markdown",
   "metadata": {},
   "source": [
    "And populate the count array:"
   ]
  },
  {
   "cell_type": "code",
   "execution_count": 71,
   "metadata": {},
   "outputs": [
    {
     "data": {
      "text/plain": [
       "array([[4, 2, 4],\n",
       "       [2, 4, 4],\n",
       "       [3, 4, 3]])"
      ]
     },
     "execution_count": 71,
     "metadata": {},
     "output_type": "execute_result"
    }
   ],
   "source": [
    "for (x, y) in transitions_ls:\n",
    "    transitionCount_ar[markovModelStates_ls.index(x)][markovModelStates_ls.index(y)]+=1\n",
    "    \n",
    "transitionCount_ar\n"
   ]
  },
  {
   "cell_type": "markdown",
   "metadata": {},
   "source": [
    "Now create a new array of floats, and populate it with normalised values. To normalise a row, it'll be easiest to define a function"
   ]
  },
  {
   "cell_type": "code",
   "execution_count": 72,
   "metadata": {
    "collapsed": true
   },
   "outputs": [],
   "source": [
    "def normalise_1d_array(arrIn_ar):\n",
    "    # Could check that arrIn_ar.ndim==1\n",
    "    return(np.array([i/arrIn_ar.sum() for i in arrIn_ar],\n",
    "                    dtype=np.float))\n",
    "    \n",
    "    \n"
   ]
  },
  {
   "cell_type": "markdown",
   "metadata": {},
   "source": [
    "Then we can convert the transition counts into a normalised array:"
   ]
  },
  {
   "cell_type": "code",
   "execution_count": 73,
   "metadata": {},
   "outputs": [
    {
     "data": {
      "text/plain": [
       "array([[ 0.4,  0.2,  0.4],\n",
       "       [ 0.2,  0.4,  0.4],\n",
       "       [ 0.3,  0.4,  0.3]])"
      ]
     },
     "execution_count": 73,
     "metadata": {},
     "output_type": "execute_result"
    }
   ],
   "source": [
    "markovModel_ar=np.empty(transitionCount_ar.shape, dtype=np.float)\n",
    "\n",
    "for i in range(markovModel_ar.shape[0]):\n",
    "    markovModel_ar[i]=normalise_1d_array(transitionCount_ar[i])\n",
    "\n",
    "markovModel_ar"
   ]
  },
  {
   "cell_type": "markdown",
   "metadata": {},
   "source": [
    "Now, set up an array of initial states."
   ]
  },
  {
   "cell_type": "code",
   "execution_count": 74,
   "metadata": {},
   "outputs": [
    {
     "data": {
      "text/plain": [
       "[1, 0, 0]"
      ]
     },
     "execution_count": 74,
     "metadata": {},
     "output_type": "execute_result"
    }
   ],
   "source": [
    "initialStateCounts_ls=[initialStates_ls.count(state) for state in markovModelStates_ls]\n",
    "\n",
    "initialStateCounts_ls"
   ]
  },
  {
   "cell_type": "code",
   "execution_count": 75,
   "metadata": {},
   "outputs": [
    {
     "data": {
      "text/plain": [
       "array([ 1.,  0.,  0.])"
      ]
     },
     "execution_count": 75,
     "metadata": {},
     "output_type": "execute_result"
    }
   ],
   "source": [
    "ar=normalise_1d_array(np.array(initialStateCounts_ls))\n",
    "ar"
   ]
  },
  {
   "cell_type": "markdown",
   "metadata": {},
   "source": [
    "And now, we can take the logs of the values so we can avoid vanishing probabilities."
   ]
  },
  {
   "cell_type": "code",
   "execution_count": 76,
   "metadata": {},
   "outputs": [
    {
     "name": "stderr",
     "output_type": "stream",
     "text": [
      "/Users/alistairwillis/anaconda/lib/python3.5/site-packages/ipykernel/__main__.py:1: RuntimeWarning: divide by zero encountered in log\n",
      "  if __name__ == '__main__':\n"
     ]
    },
    {
     "data": {
      "text/plain": [
       "array([  0., -inf, -inf])"
      ]
     },
     "execution_count": 76,
     "metadata": {},
     "output_type": "execute_result"
    }
   ],
   "source": [
    "initialStates_ar=np.log(ar)\n",
    "initialStates_ar"
   ]
  },
  {
   "cell_type": "code",
   "execution_count": 77,
   "metadata": {},
   "outputs": [
    {
     "data": {
      "text/plain": [
       "array([[-0.91629073, -1.60943791, -0.91629073],\n",
       "       [-1.60943791, -0.91629073, -0.91629073],\n",
       "       [-1.2039728 , -0.91629073, -1.2039728 ]])"
      ]
     },
     "execution_count": 77,
     "metadata": {},
     "output_type": "execute_result"
    }
   ],
   "source": [
    "transitionMatrix_ar=np.log(markovModel_ar)\n",
    "transitionMatrix_ar"
   ]
  },
  {
   "cell_type": "markdown",
   "metadata": {},
   "source": [
    "## Now calculate the state after a Markov step"
   ]
  },
  {
   "cell_type": "markdown",
   "metadata": {
    "collapsed": true
   },
   "source": [
    "What we want is a function that takes a transition matrix, and a probabilistic distribution of states, and returns a distribution of states in the next step, and an array of the previous states."
   ]
  },
  {
   "cell_type": "markdown",
   "metadata": {
    "collapsed": true
   },
   "source": [
    "Let's assume that we're working fully with logged versions at the moment."
   ]
  },
  {
   "cell_type": "code",
   "execution_count": 78,
   "metadata": {
    "collapsed": true
   },
   "outputs": [],
   "source": [
    "def next_step(stateIn_ar, transitionIn_ar):\n",
    "    '''\n",
    "    Takes an input state and a transition matrix, and returns\n",
    "    an output state.\n",
    "    \n",
    "    Both stateIn_ar and transitionIn_ar are expressed as logs.\n",
    "    '''\n",
    "    \n",
    "    stateOut_ar=np.empty(stateIn_ar.shape)\n",
    "    transOut_ar=np.zeros(stateIn_ar.shape, dtype=np.int)\n",
    "    \n",
    "    for (i, x) in enumerate(stateIn_ar):\n",
    "        calculateTransitions_ar=stateIn_ar + transitionMatrix_ar[i]\n",
    "        argmax_i=np.argmax(calculateTransitions_ar)\n",
    "        \n",
    "        stateOut_ar[i]=calculateTransitions_ar[argmax_i]\n",
    "        transOut_ar[i]=argmax_i\n",
    "        \n",
    "        \n",
    "    return (stateOut_ar, transOut_ar)\n",
    "    "
   ]
  },
  {
   "cell_type": "code",
   "execution_count": 79,
   "metadata": {},
   "outputs": [
    {
     "data": {
      "text/plain": [
       "(array([-0.91629073, -1.60943791, -1.2039728 ]), array([0, 0, 0]))"
      ]
     },
     "execution_count": 79,
     "metadata": {},
     "output_type": "execute_result"
    }
   ],
   "source": [
    "next_step(initialStates_ar, transitionMatrix_ar)"
   ]
  },
  {
   "cell_type": "code",
   "execution_count": 80,
   "metadata": {},
   "outputs": [
    {
     "data": {
      "text/plain": [
       "(array([-1.83258146, -2.12026354, -2.12026354]), array([0, 2, 0]))"
      ]
     },
     "execution_count": 80,
     "metadata": {},
     "output_type": "execute_result"
    }
   ],
   "source": [
    "u=next_step(initialStates_ar, transitionMatrix_ar)[0]\n",
    "next_step(u, transitionMatrix_ar)"
   ]
  },
  {
   "cell_type": "code",
   "execution_count": 82,
   "metadata": {
    "collapsed": true
   },
   "outputs": [],
   "source": [
    "def most_likely_paths(stateIn_ar, transitionIn_ar, steps=10):\n",
    "    '''\n",
    "    Calculate the most likely path to each state from stateIn_ar\n",
    "    after steps transitions\n",
    "    '''\n",
    "    paths=[]\n",
    "    currentState_ar=stateIn_ar\n",
    "    for i in range(steps):\n",
    "        (currentState_ar, trans_ar)=next_step(currentState_ar, transitionIn_ar)\n",
    "        paths.append(list(trans_ar))\n",
    "        \n",
    "    return paths\n",
    "        "
   ]
  },
  {
   "cell_type": "code",
   "execution_count": 83,
   "metadata": {},
   "outputs": [
    {
     "data": {
      "text/plain": [
       "[[0, 0, 0],\n",
       " [0, 2, 0],\n",
       " [0, 1, 0],\n",
       " [0, 1, 0],\n",
       " [0, 1, 0],\n",
       " [0, 1, 0],\n",
       " [0, 2, 0],\n",
       " [0, 1, 0],\n",
       " [0, 1, 1],\n",
       " [0, 1, 1]]"
      ]
     },
     "execution_count": 83,
     "metadata": {},
     "output_type": "execute_result"
    }
   ],
   "source": [
    "most_likely_paths(initialStates_ar, transitionMatrix_ar, 10)"
   ]
  },
  {
   "cell_type": "code",
   "execution_count": 84,
   "metadata": {
    "collapsed": true
   },
   "outputs": [],
   "source": [
    "u=_"
   ]
  },
  {
   "cell_type": "code",
   "execution_count": 85,
   "metadata": {},
   "outputs": [
    {
     "data": {
      "text/plain": [
       "array([[0, 0, 0, 0, 0, 0, 0, 0, 0, 0],\n",
       "       [0, 2, 1, 1, 1, 1, 2, 1, 1, 1],\n",
       "       [0, 0, 0, 0, 0, 0, 0, 0, 1, 1]])"
      ]
     },
     "execution_count": 85,
     "metadata": {},
     "output_type": "execute_result"
    }
   ],
   "source": [
    "np.array(u).T"
   ]
  },
  {
   "cell_type": "code",
   "execution_count": null,
   "metadata": {
    "collapsed": true
   },
   "outputs": [],
   "source": []
  }
 ],
 "metadata": {
  "kernelspec": {
   "display_name": "Python [conda root]",
   "language": "python",
   "name": "conda-root-py"
  },
  "language_info": {
   "codemirror_mode": {
    "name": "ipython",
    "version": 3
   },
   "file_extension": ".py",
   "mimetype": "text/x-python",
   "name": "python",
   "nbconvert_exporter": "python",
   "pygments_lexer": "ipython3",
   "version": "3.5.4"
  }
 },
 "nbformat": 4,
 "nbformat_minor": 2
}
