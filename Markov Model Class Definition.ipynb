{
 "cells": [
  {
   "cell_type": "markdown",
   "metadata": {},
   "source": [
    "# Markov Model class definition"
   ]
  },
  {
   "cell_type": "markdown",
   "metadata": {},
   "source": [
    "This notebook defines a constructor for a Markov model class."
   ]
  },
  {
   "cell_type": "code",
   "execution_count": 82,
   "metadata": {},
   "outputs": [
    {
     "data": {
      "text/plain": [
       "{'divide': 'ignore', 'invalid': 'warn', 'over': 'warn', 'under': 'ignore'}"
      ]
     },
     "execution_count": 82,
     "metadata": {},
     "output_type": "execute_result"
    }
   ],
   "source": [
    "# Put all the imports at the beginning\n",
    "\n",
    "import pandas as pd\n",
    "import numpy as np\n",
    "\n",
    "from collections import Counter\n",
    "\n",
    "np.seterr(divide='ignore')"
   ]
  },
  {
   "cell_type": "markdown",
   "metadata": {},
   "source": [
    "Before the Markov model class, I also need a MarkovState class. The MarkovState class will contain the information about the state following one or more transitional steps from the MM.\n",
    "\n",
    "This class needs the following data:\n",
    "\n",
    "1. An index (index_ls) of the states considered in the MarkovState\n",
    "\n",
    "2. A (logged) probabilistic distribution of the current state (currentState_ar)\n",
    "\n",
    "3. A structure containing the historical paths to each node in the index."
   ]
  },
  {
   "cell_type": "code",
   "execution_count": 83,
   "metadata": {
    "collapsed": true
   },
   "outputs": [],
   "source": [
    "class MarkovState:\n",
    "    \n",
    "    def __init__(self, index_ls, currentLogState_ar, paths_ls):\n",
    "        \n",
    "        self.myIndex_ls=index_ls\n",
    "        self.myCurrentLogState_ar=currentLogState_ar\n",
    "        self.myPaths_ls=paths_ls\n",
    "        \n",
    "    def get_log_current_state_distribution(self):\n",
    "        return self.myCurrentLogState_ar\n",
    "    \n",
    "    def get_current_state_distribution(self):\n",
    "        return np.exp(self.myCurrentLogState_ar)\n",
    "    \n",
    "    def get_index(self):\n",
    "        return self.myIndex_ls\n",
    "    \n",
    "    def get_path_list(self):\n",
    "        return self.myPaths_ls\n",
    "        \n",
    "    def most_likely_path(self, state):\n",
    "        '''\n",
    "        Find the most likely path to the current state,\n",
    "        as found from the path history\n",
    "        '''\n",
    "        # Hacky, but seems to work\n",
    "        path_ls=[self.myPaths_ls[-1][self.myIndex_ls.index(state)],\n",
    "                 self.myIndex_ls.index(state)]\n",
    "\n",
    "        i=len(self.myPaths_ls)-1\n",
    "        \n",
    "        while i>0:\n",
    "            path_ls[0:0]=[self.myPaths_ls[i-1][path_ls[0]]]\n",
    "            i-=1\n",
    "\n",
    "        return [self.myIndex_ls[i] for i in path_ls]\n",
    "\n",
    "\n",
    "    def most_likely_state(self, n=1):\n",
    "        '''\n",
    "        Return the n most likely states to have ended up in.\n",
    "        '''\n",
    "        return [y[1] for y in sorted([x for x in zip(self.get_current_state_distribution(), self.get_index())],\n",
    "                                     reverse=True)\n",
    "               ][:n]"
   ]
  },
  {
   "cell_type": "markdown",
   "metadata": {},
   "source": [
    "Although it's not the only way of defining a Markov model, for the moment, I'm going to do the definition by taking arguments in the constructor that represent a distribution of transitions."
   ]
  },
  {
   "cell_type": "code",
   "execution_count": 84,
   "metadata": {
    "collapsed": true
   },
   "outputs": [],
   "source": [
    "class MarkovModel:\n",
    "    \n",
    "    def __init__(self, transitions_ls, initialStates_ls=[]):\n",
    "        '''\n",
    "        Take a list of initial states, and a list of pairs of transitions\n",
    "        between states. Create a Markov model based on the distribution of\n",
    "        initial states, and distribution of transitions.\n",
    "        \n",
    "        If initialStates_ls is empty, assume an equal distribution over all\n",
    "        the states obtained from the transitions and the extra states.\n",
    "        '''\n",
    "\n",
    "        # First, build the list of all states in the model\n",
    "        self.stateIndex_ls=list({x for x in initialStates_ls}. \\\n",
    "                                 union({x for (x, y) in transitions_ls}). \\\n",
    "                                 union({y for (x, y) in transitions_ls}))\n",
    "        self.stateIndex_ls.sort()  # Just for aesthetics\n",
    "\n",
    "        # Now build a series that contains the initial states\n",
    "        if initialStates_ls:\n",
    "            self.initialState_sr=pd.Series(Counter(initialStates_ls),\n",
    "                                           index=self.stateIndex_ls).fillna(0)\n",
    "        else:\n",
    "            self.initialState_sr=pd.Series(Counter(self.stateIndex_ls), \n",
    "                                           index=self.stateIndex_ls).fillna(0)\n",
    "        \n",
    "        # and normalise the values so the prob.s sum to 1\n",
    "        self.initialState_sr=self.initialState_sr/np.sum(self.initialState_sr)\n",
    "\n",
    "        # Now build an array that encodes the transitions\n",
    "        self.transitionMatrix_df=pd.DataFrame(0,\n",
    "                                              index=self.stateIndex_ls,\n",
    "                                              columns=self.stateIndex_ls)\n",
    "        \n",
    "        for (x, y) in transitions_ls:\n",
    "            self.transitionMatrix_df.loc[x][y]+=1\n",
    "        for row_ix in self.transitionMatrix_df.index:\n",
    "            if not all(self.transitionMatrix_df.loc[row_ix]==0):\n",
    "                self.transitionMatrix_df.loc[row_ix]= \\\n",
    "                   self.transitionMatrix_df.loc[row_ix]/ \\\n",
    "                     np.sum(self.transitionMatrix_df.loc[row_ix])\n",
    "                \n",
    "        # Take the log of the transition matrix to make\n",
    "        # calculations more accurate\n",
    "        self.logTransitionMatrix_df=np.log(self.transitionMatrix_df)\n",
    "\n",
    "        # Same for the initial states:\n",
    "        self.logInitialState_sr=np.log(self.initialState_sr)\n",
    "\n",
    "\n",
    "    def create_markov_state(self, statesIn_ls):\n",
    "        '''\n",
    "        Helper function to convert a list of states\n",
    "        to a MarkovState object. Usually used as the\n",
    "        first step of input to the apply method.\n",
    "        '''\n",
    "        \n",
    "        initialStatesDist_ls=[statesIn_ls.count(s) for s in self.stateIndex_ls]\n",
    "        dist_ar=np.array(initialStatesDist_ls)/np.sum(initialStatesDist_ls)\n",
    "        \n",
    "        return MarkovState(self.stateIndex_ls,\n",
    "                           np.log(dist_ar),\n",
    "                           [])\n",
    "        \n",
    "    def apply_1(self, stateIn_ms):\n",
    "        '''\n",
    "        Helper function to apply: applies the transition matrix\n",
    "        for self to stateIn_ms. Returns the pair of the log \n",
    "        distribution of outputs and the previous state from \n",
    "        which the next state is arrived at.\n",
    "        '''\n",
    "        stateDistOut_ar=np.empty(len(self.stateIndex_ls))\n",
    "        previousStateOut_ls=[0]*len(self.stateIndex_ls)\n",
    "        \n",
    "        # For each row in the transition matrix:\n",
    "        for (i, row) in enumerate(self.logTransitionMatrix_ar):\n",
    "\n",
    "            # multiply (logged) each of the transition probabilities\n",
    "            # by the probability of being in that state\n",
    "            calculateTransitions_ar=stateIn_ms.get_log_current_state_distribution() + \\\n",
    "                                    self.logTransitionMatrix_ar.transpose()[i]\n",
    "            \n",
    "            # Find the index of the largest value (most probable transition) \n",
    "            argmax_i=np.argmax(calculateTransitions_ar)\n",
    "\n",
    "            # and add that probability and the previous state\n",
    "            # to the output values\n",
    "            stateDistOut_ar[i]=calculateTransitions_ar[argmax_i]\n",
    "            previousStateOut_ls[i]=argmax_i\n",
    "            \n",
    "        # return {'logdist':stateDistOut_ar, \n",
    "        #         'prevstates': previousStateOut_ls}\n",
    "\n",
    "        return MarkovState(stateIn_ms.get_index(),\n",
    "                           stateDistOut_ar,\n",
    "                           stateIn_ms.get_path_list() + [previousStateOut_ls])\n",
    "\n",
    "    def apply(self, stateIn_ms, steps=1):\n",
    "        '''\n",
    "        Takes an input MarkovState, and returns the output\n",
    "        MarkovState following steps applications.\n",
    "        \n",
    "        Can also take a list of states as an alternative to\n",
    "        the input MarkovState, in which case it will be \n",
    "        converted as necessary.\n",
    "\n",
    "        Both stateIn_ar and transitionIn_ar are expressed as logs.\n",
    "        \n",
    "        TODO: Raise an error if indices don't match, or if a\n",
    "              list is input which contains nonexistent states.\n",
    "        '''\n",
    "        \n",
    "        # First, if the given argument is not a MarkovState,\n",
    "        # generate one based on the input\n",
    "        if not isinstance(stateIn_ms, MarkovState):\n",
    "            stateIn_ms=self.create_markov_state(stateIn_ms)\n",
    "    \n",
    "        # Next, let's assume that we're only doing one step\n",
    "        # at the moment\n",
    "        \n",
    "        stateOut_ms=stateIn_ms\n",
    "        \n",
    "        for i in range(steps):\n",
    "            stateOut_ms=self.apply_1(stateOut_ms)\n",
    "        \n",
    "        return stateOut_ms\n",
    "    \n",
    "    def transition_weight(self, state1, state2):\n",
    "        '''\n",
    "        Return the weight (usually a probability, if the weight\n",
    "        of all leaving arcs sum to 1) of the arc from state1\n",
    "        to state2\n",
    "        '''\n",
    "        return self.transitionMatrix_ar[self.stateIndex_ls.index(state1)][self.stateIndex_ls.index(state2)]"
   ]
  },
  {
   "cell_type": "markdown",
   "metadata": {},
   "source": [
    "I'm going to put rather more test cases here now. We can always comment out the tests before exporting."
   ]
  },
  {
   "cell_type": "code",
   "execution_count": 85,
   "metadata": {
    "collapsed": true
   },
   "outputs": [],
   "source": [
    "transitions_ls=[('a', 'a'), ('a', 'b'), ('a', 'b'), ('a', 'b'), ('a', 'b'), \n",
    "                ('a', 'c'), ('a', 'c'), ('a', 'c'), ('a', 'c'), ('a', 'c'), \n",
    "                ('b', 'a'), ('b', 'b'), ('b', 'b'), ('b', 'b'), ('b', 'b'), \n",
    "                ('b', 'b'), ('b', 'b'), ('b', 'b'), ('b', 'b'), ('b', 'c'),\n",
    "                ('c', 'a'), ('c', 'a'), ('c', 'a'), ('c', 'b'), ('c', 'b'),\n",
    "                ('c', 'b'), ('c', 'b'), ('c', 'c'), ('c', 'c'), ('c', 'c')]"
   ]
  },
  {
   "cell_type": "code",
   "execution_count": 86,
   "metadata": {
    "collapsed": true
   },
   "outputs": [],
   "source": [
    "test1_mm=MarkovModel(transitions_ls, ['a'])"
   ]
  },
  {
   "cell_type": "code",
   "execution_count": 87,
   "metadata": {},
   "outputs": [
    {
     "data": {
      "text/html": [
       "<div>\n",
       "<style>\n",
       "    .dataframe thead tr:only-child th {\n",
       "        text-align: right;\n",
       "    }\n",
       "\n",
       "    .dataframe thead th {\n",
       "        text-align: left;\n",
       "    }\n",
       "\n",
       "    .dataframe tbody tr th {\n",
       "        vertical-align: top;\n",
       "    }\n",
       "</style>\n",
       "<table border=\"1\" class=\"dataframe\">\n",
       "  <thead>\n",
       "    <tr style=\"text-align: right;\">\n",
       "      <th></th>\n",
       "      <th>a</th>\n",
       "      <th>b</th>\n",
       "      <th>c</th>\n",
       "    </tr>\n",
       "  </thead>\n",
       "  <tbody>\n",
       "    <tr>\n",
       "      <th>a</th>\n",
       "      <td>0.1</td>\n",
       "      <td>0.4</td>\n",
       "      <td>0.5</td>\n",
       "    </tr>\n",
       "    <tr>\n",
       "      <th>b</th>\n",
       "      <td>0.1</td>\n",
       "      <td>0.8</td>\n",
       "      <td>0.1</td>\n",
       "    </tr>\n",
       "    <tr>\n",
       "      <th>c</th>\n",
       "      <td>0.3</td>\n",
       "      <td>0.4</td>\n",
       "      <td>0.3</td>\n",
       "    </tr>\n",
       "  </tbody>\n",
       "</table>\n",
       "</div>"
      ],
      "text/plain": [
       "     a    b    c\n",
       "a  0.1  0.4  0.5\n",
       "b  0.1  0.8  0.1\n",
       "c  0.3  0.4  0.3"
      ]
     },
     "execution_count": 87,
     "metadata": {},
     "output_type": "execute_result"
    }
   ],
   "source": [
    "test1_mm.transitionMatrix_df"
   ]
  },
  {
   "cell_type": "code",
   "execution_count": 88,
   "metadata": {},
   "outputs": [
    {
     "data": {
      "text/plain": [
       "a    1.0\n",
       "b    0.0\n",
       "c    0.0\n",
       "dtype: float64"
      ]
     },
     "execution_count": 88,
     "metadata": {},
     "output_type": "execute_result"
    }
   ],
   "source": [
    "test1_mm.initialState_sr"
   ]
  },
  {
   "cell_type": "code",
   "execution_count": 89,
   "metadata": {
    "collapsed": true
   },
   "outputs": [],
   "source": [
    "transitions_ls=[('a', 'a'), ('a', 'b'), ('a', 'b'), ('a', 'b'), ('a', 'b'), \n",
    "                ('a', 'c'), ('a', 'c'), ('a', 'c'), ('a', 'c'), ('a', 'c'), \n",
    "                ('c', 'a'), ('c', 'a'), ('c', 'a'), ('c', 'b'), ('c', 'b'),\n",
    "                ('c', 'b'), ('c', 'b'), ('c', 'c'), ('c', 'c'), ('c', 'c')]"
   ]
  },
  {
   "cell_type": "code",
   "execution_count": 90,
   "metadata": {
    "collapsed": true
   },
   "outputs": [],
   "source": [
    "test2_mm=MarkovModel(transitions_ls)"
   ]
  },
  {
   "cell_type": "code",
   "execution_count": 91,
   "metadata": {},
   "outputs": [
    {
     "data": {
      "text/html": [
       "<div>\n",
       "<style>\n",
       "    .dataframe thead tr:only-child th {\n",
       "        text-align: right;\n",
       "    }\n",
       "\n",
       "    .dataframe thead th {\n",
       "        text-align: left;\n",
       "    }\n",
       "\n",
       "    .dataframe tbody tr th {\n",
       "        vertical-align: top;\n",
       "    }\n",
       "</style>\n",
       "<table border=\"1\" class=\"dataframe\">\n",
       "  <thead>\n",
       "    <tr style=\"text-align: right;\">\n",
       "      <th></th>\n",
       "      <th>a</th>\n",
       "      <th>b</th>\n",
       "      <th>c</th>\n",
       "    </tr>\n",
       "  </thead>\n",
       "  <tbody>\n",
       "    <tr>\n",
       "      <th>a</th>\n",
       "      <td>0.1</td>\n",
       "      <td>0.4</td>\n",
       "      <td>0.5</td>\n",
       "    </tr>\n",
       "    <tr>\n",
       "      <th>b</th>\n",
       "      <td>0.0</td>\n",
       "      <td>0.0</td>\n",
       "      <td>0.0</td>\n",
       "    </tr>\n",
       "    <tr>\n",
       "      <th>c</th>\n",
       "      <td>0.3</td>\n",
       "      <td>0.4</td>\n",
       "      <td>0.3</td>\n",
       "    </tr>\n",
       "  </tbody>\n",
       "</table>\n",
       "</div>"
      ],
      "text/plain": [
       "     a    b    c\n",
       "a  0.1  0.4  0.5\n",
       "b  0.0  0.0  0.0\n",
       "c  0.3  0.4  0.3"
      ]
     },
     "execution_count": 91,
     "metadata": {},
     "output_type": "execute_result"
    }
   ],
   "source": [
    "test2_mm.transitionMatrix_df"
   ]
  },
  {
   "cell_type": "code",
   "execution_count": 92,
   "metadata": {},
   "outputs": [
    {
     "data": {
      "text/plain": [
       "a    0.333333\n",
       "b    0.333333\n",
       "c    0.333333\n",
       "dtype: float64"
      ]
     },
     "execution_count": 92,
     "metadata": {},
     "output_type": "execute_result"
    }
   ],
   "source": [
    "test2_mm.initialState_sr"
   ]
  },
  {
   "cell_type": "code",
   "execution_count": null,
   "metadata": {
    "collapsed": true
   },
   "outputs": [],
   "source": []
  },
  {
   "cell_type": "code",
   "execution_count": null,
   "metadata": {
    "collapsed": true
   },
   "outputs": [],
   "source": []
  },
  {
   "cell_type": "code",
   "execution_count": null,
   "metadata": {
    "collapsed": true
   },
   "outputs": [],
   "source": []
  },
  {
   "cell_type": "code",
   "execution_count": null,
   "metadata": {
    "collapsed": true
   },
   "outputs": [],
   "source": []
  },
  {
   "cell_type": "code",
   "execution_count": null,
   "metadata": {
    "collapsed": true
   },
   "outputs": [],
   "source": []
  },
  {
   "cell_type": "code",
   "execution_count": null,
   "metadata": {
    "collapsed": true
   },
   "outputs": [],
   "source": []
  },
  {
   "cell_type": "code",
   "execution_count": null,
   "metadata": {
    "collapsed": true
   },
   "outputs": [],
   "source": []
  },
  {
   "cell_type": "code",
   "execution_count": null,
   "metadata": {
    "collapsed": true
   },
   "outputs": [],
   "source": []
  },
  {
   "cell_type": "code",
   "execution_count": null,
   "metadata": {
    "collapsed": true
   },
   "outputs": [],
   "source": []
  },
  {
   "cell_type": "markdown",
   "metadata": {},
   "source": [
    "Now we're going to try to write some code to merge two different markov models. This isn't mathematically particularly well founded, but what the heck..."
   ]
  },
  {
   "cell_type": "markdown",
   "metadata": {},
   "source": [
    "I'm also going to write a subclass of the MarkovModel class here, which will be initialised using the transition matrix etc., rather than the distribution of state transitions:"
   ]
  },
  {
   "cell_type": "code",
   "execution_count": 118,
   "metadata": {
    "collapsed": true
   },
   "outputs": [],
   "source": [
    "class MarkovModelFromArrays(MarkovModel):\n",
    "    def __init__(self, transitions_ar, initialStates_ar, index_ls):\n",
    "        '''\n",
    "        Give the arrays directly. Note, this is not generally\n",
    "        intended to be called by the user.\n",
    "        '''\n",
    "        # provided index should be sorted\n",
    "        assert index_ls==sorted(index_ls)\n",
    "        self.stateIndex_ls=index_ls\n",
    "\n",
    "        # Store the array that contains the initial states\n",
    "        self.initialState_ar=initialStates_ar\n",
    "        # and take the log\n",
    "        self.logInitialState_ar=np.log(self.initialState_ar)\n",
    "\n",
    "        # Now store the array that encodes the transitions,\n",
    "        self.transitionMatrix_ar=transitions_ar\n",
    "        # and take the log\n",
    "        self.logTransitionMatrix_ar=np.log(self.transitionMatrix_ar)"
   ]
  },
  {
   "cell_type": "code",
   "execution_count": 119,
   "metadata": {
    "collapsed": true
   },
   "outputs": [],
   "source": [
    "def merge(model1, model2, weight, normalise=True):\n",
    "    '''\n",
    "    Combine the transition matrices of model1 and model2 into\n",
    "    an averaged model, in which model1 has weight, and model2\n",
    "    has (1-weight).\n",
    "    \n",
    "    If normalise==True, then adjust the model so that the\n",
    "    outputs from all nodes sum to 1 (or zero if no leaving\n",
    "    arcs).\n",
    "    '''\n",
    "    assert\n",
    "    \n",
    "    \n",
    "    mergedIndex_ls=sorted(list(set(model1.stateIndex_ls).union(set(model2.stateIndex_ls))))\n",
    "    mergedTransitionMatrix_ar=np.zeros([len(mergedIndex_ls), len(mergedIndex_ls)], dtype=np.float)\n",
    "\n",
    "    for stateFrom in model1.stateIndex_ls:\n",
    "        for stateTo in model1.stateIndex_ls:\n",
    "            w=weight * model1.transition_weight(stateFrom, stateTo)\n",
    "            mergedTransitionMatrix_ar[mergedIndex_ls.index(stateFrom)][mergedIndex_ls.index(stateTo)]+=w\n",
    "            \n",
    "    for stateFrom in model2.stateIndex_ls:\n",
    "        for stateTo in model2.stateIndex_ls:\n",
    "            w=(1-weight) * model2.transition_weight(stateFrom, stateTo)\n",
    "            mergedTransitionMatrix_ar[mergedIndex_ls.index(stateFrom)][mergedIndex_ls.index(stateTo)]+=w\n",
    "\n",
    "    if normalise:\n",
    "        for (i, row) in enumerate(mergedTransitionMatrix_ar):\n",
    "            if np.sum(row)!=0:\n",
    "                mergedTransitionMatrix_ar[i]=row/np.sum(row)\n",
    "    \n",
    "    # I should do something with the initial states... let's just combine\n",
    "    # them like the transition matrices\n",
    "    initialStates_ar=np.zeros(len(mergedIndex_ls))\n",
    "    for (i, v) in enumerate(model1.initialState_ar):\n",
    "        stateIndex_state=model1.stateIndex_ls[i]\n",
    "        ms_i=mergedIndex_ls.index(stateIndex_state)\n",
    "        initialStates_ar[ms_i]+=weight*v\n",
    "    \n",
    "    for (i, v) in enumerate(model2.initialState_ar):\n",
    "        stateIndex_state=model2.stateIndex_ls[i]\n",
    "        ms_i=mergedIndex_ls.index(stateIndex_state)\n",
    "        initialStates_ar[ms_i]+=(1-weight)*v\n",
    "    \n",
    "    if normalise:\n",
    "        initialStates_ar=initialStates_ar/np.sum(initialStates_ar)\n",
    "    \n",
    "    return MarkovModelFromArrays(mergedTransitionMatrix_ar,\n",
    "                                 initialStates_ar,\n",
    "                                 mergedIndex_ls)\n",
    "    \n",
    "    "
   ]
  },
  {
   "cell_type": "code",
   "execution_count": 18,
   "metadata": {},
   "outputs": [
    {
     "data": {
      "text/plain": [
       "array([[ 0.,  0.,  0.],\n",
       "       [ 0.,  0.,  0.],\n",
       "       [ 0.,  0.,  0.]])"
      ]
     },
     "execution_count": 18,
     "metadata": {},
     "output_type": "execute_result"
    }
   ],
   "source": [
    "a=np.zeros([3,3])\n",
    "a"
   ]
  },
  {
   "cell_type": "code",
   "execution_count": 19,
   "metadata": {},
   "outputs": [
    {
     "data": {
      "text/plain": [
       "array([[ 0. ,  0.3,  0.6],\n",
       "       [ 0.2,  0.5,  0.8],\n",
       "       [ 0.4,  0.7,  1. ]])"
      ]
     },
     "execution_count": 19,
     "metadata": {},
     "output_type": "execute_result"
    }
   ],
   "source": [
    "for i in range(3):\n",
    "    for j in range(3):\n",
    "        a[i][j]=i*0.2+j*0.3\n",
    "a"
   ]
  },
  {
   "cell_type": "code",
   "execution_count": 25,
   "metadata": {},
   "outputs": [
    {
     "data": {
      "text/plain": [
       "array([[ 0. ,  0.3,  0.6],\n",
       "       [ 0.2,  0.5,  0.8],\n",
       "       [ 0.4,  0.7,  1. ],\n",
       "       [ 0. ,  0. ,  0. ],\n",
       "       [ 0. ,  0. ,  0. ]])"
      ]
     },
     "execution_count": 25,
     "metadata": {},
     "output_type": "execute_result"
    }
   ],
   "source": [
    "b=np.concatenate([a, np.zeros([2, 3])], axis=0)\n",
    "b"
   ]
  },
  {
   "cell_type": "code",
   "execution_count": 27,
   "metadata": {},
   "outputs": [
    {
     "data": {
      "text/plain": [
       "array([[ 0. ,  0.3,  0.6,  0. ,  0. ],\n",
       "       [ 0.2,  0.5,  0.8,  0. ,  0. ],\n",
       "       [ 0.4,  0.7,  1. ,  0. ,  0. ],\n",
       "       [ 0. ,  0. ,  0. ,  0. ,  0. ],\n",
       "       [ 0. ,  0. ,  0. ,  0. ,  0. ]])"
      ]
     },
     "execution_count": 27,
     "metadata": {},
     "output_type": "execute_result"
    }
   ],
   "source": [
    "c=np.concatenate([b, np.zeros([5, 2])], axis=1)\n",
    "c"
   ]
  },
  {
   "cell_type": "markdown",
   "metadata": {},
   "source": [
    "Now want to sort so that the index is ['a', 'b', 'c', 'd', 'e'] rather than ['a', 'c', 'e', 'b', 'd']"
   ]
  },
  {
   "cell_type": "code",
   "execution_count": 28,
   "metadata": {},
   "outputs": [
    {
     "data": {
      "text/plain": [
       "array([[ 0. ,  0.3,  0.6,  0. ,  0. ],\n",
       "       [ 0.2,  0.5,  0.8,  0. ,  0. ],\n",
       "       [ 0.4,  0.7,  1. ,  0. ,  0. ],\n",
       "       [ 0. ,  0. ,  0. ,  0. ,  0. ],\n",
       "       [ 0. ,  0. ,  0. ,  0. ,  0. ]])"
      ]
     },
     "execution_count": 28,
     "metadata": {},
     "output_type": "execute_result"
    }
   ],
   "source": [
    "c.argsort()"
   ]
  },
  {
   "cell_type": "code",
   "execution_count": 29,
   "metadata": {
    "collapsed": true
   },
   "outputs": [],
   "source": [
    "import pandas as pd"
   ]
  },
  {
   "cell_type": "code",
   "execution_count": 51,
   "metadata": {},
   "outputs": [
    {
     "data": {
      "text/html": [
       "<div>\n",
       "<style>\n",
       "    .dataframe thead tr:only-child th {\n",
       "        text-align: right;\n",
       "    }\n",
       "\n",
       "    .dataframe thead th {\n",
       "        text-align: left;\n",
       "    }\n",
       "\n",
       "    .dataframe tbody tr th {\n",
       "        vertical-align: top;\n",
       "    }\n",
       "</style>\n",
       "<table border=\"1\" class=\"dataframe\">\n",
       "  <thead>\n",
       "    <tr style=\"text-align: right;\">\n",
       "      <th></th>\n",
       "      <th>a</th>\n",
       "      <th>c</th>\n",
       "      <th>e</th>\n",
       "    </tr>\n",
       "  </thead>\n",
       "  <tbody>\n",
       "    <tr>\n",
       "      <th>a</th>\n",
       "      <td>0</td>\n",
       "      <td>3</td>\n",
       "      <td>6</td>\n",
       "    </tr>\n",
       "    <tr>\n",
       "      <th>e</th>\n",
       "      <td>2</td>\n",
       "      <td>5</td>\n",
       "      <td>8</td>\n",
       "    </tr>\n",
       "    <tr>\n",
       "      <th>c</th>\n",
       "      <td>1</td>\n",
       "      <td>4</td>\n",
       "      <td>7</td>\n",
       "    </tr>\n",
       "  </tbody>\n",
       "</table>\n",
       "</div>"
      ],
      "text/plain": [
       "   a  c  e\n",
       "a  0  3  6\n",
       "e  2  5  8\n",
       "c  1  4  7"
      ]
     },
     "execution_count": 51,
     "metadata": {},
     "output_type": "execute_result"
    }
   ],
   "source": [
    "a=pd.DataFrame({'a':[0, 2, 1], 'e':[6, 8, 7], 'c':[3, 5, 4]},\n",
    "                index=['a', 'e', 'c'])\n",
    "a"
   ]
  },
  {
   "cell_type": "code",
   "execution_count": 55,
   "metadata": {},
   "outputs": [
    {
     "data": {
      "text/html": [
       "<div>\n",
       "<style>\n",
       "    .dataframe thead tr:only-child th {\n",
       "        text-align: right;\n",
       "    }\n",
       "\n",
       "    .dataframe thead th {\n",
       "        text-align: left;\n",
       "    }\n",
       "\n",
       "    .dataframe tbody tr th {\n",
       "        vertical-align: top;\n",
       "    }\n",
       "</style>\n",
       "<table border=\"1\" class=\"dataframe\">\n",
       "  <thead>\n",
       "    <tr style=\"text-align: right;\">\n",
       "      <th></th>\n",
       "      <th>a</th>\n",
       "      <th>d</th>\n",
       "      <th>e</th>\n",
       "    </tr>\n",
       "  </thead>\n",
       "  <tbody>\n",
       "    <tr>\n",
       "      <th>e</th>\n",
       "      <td>19</td>\n",
       "      <td>12</td>\n",
       "      <td>15</td>\n",
       "    </tr>\n",
       "    <tr>\n",
       "      <th>d</th>\n",
       "      <td>17</td>\n",
       "      <td>11</td>\n",
       "      <td>16</td>\n",
       "    </tr>\n",
       "    <tr>\n",
       "      <th>a</th>\n",
       "      <td>18</td>\n",
       "      <td>10</td>\n",
       "      <td>14</td>\n",
       "    </tr>\n",
       "  </tbody>\n",
       "</table>\n",
       "</div>"
      ],
      "text/plain": [
       "    a   d   e\n",
       "e  19  12  15\n",
       "d  17  11  16\n",
       "a  18  10  14"
      ]
     },
     "execution_count": 55,
     "metadata": {},
     "output_type": "execute_result"
    }
   ],
   "source": [
    "b=pd.DataFrame({'d':[12, 11, 10], 'e':[15, 16, 14], 'a':[19, 17, 18]},\n",
    "                index=['e', 'd', 'a'])\n",
    "b"
   ]
  },
  {
   "cell_type": "code",
   "execution_count": 59,
   "metadata": {},
   "outputs": [
    {
     "data": {
      "text/html": [
       "<div>\n",
       "<style>\n",
       "    .dataframe thead tr:only-child th {\n",
       "        text-align: right;\n",
       "    }\n",
       "\n",
       "    .dataframe thead th {\n",
       "        text-align: left;\n",
       "    }\n",
       "\n",
       "    .dataframe tbody tr th {\n",
       "        vertical-align: top;\n",
       "    }\n",
       "</style>\n",
       "<table border=\"1\" class=\"dataframe\">\n",
       "  <thead>\n",
       "    <tr style=\"text-align: right;\">\n",
       "      <th></th>\n",
       "      <th>a</th>\n",
       "      <th>c</th>\n",
       "      <th>d</th>\n",
       "      <th>e</th>\n",
       "    </tr>\n",
       "  </thead>\n",
       "  <tbody>\n",
       "    <tr>\n",
       "      <th>a</th>\n",
       "      <td>18.0</td>\n",
       "      <td>NaN</td>\n",
       "      <td>NaN</td>\n",
       "      <td>20.0</td>\n",
       "    </tr>\n",
       "    <tr>\n",
       "      <th>c</th>\n",
       "      <td>NaN</td>\n",
       "      <td>NaN</td>\n",
       "      <td>NaN</td>\n",
       "      <td>NaN</td>\n",
       "    </tr>\n",
       "    <tr>\n",
       "      <th>d</th>\n",
       "      <td>NaN</td>\n",
       "      <td>NaN</td>\n",
       "      <td>NaN</td>\n",
       "      <td>NaN</td>\n",
       "    </tr>\n",
       "    <tr>\n",
       "      <th>e</th>\n",
       "      <td>21.0</td>\n",
       "      <td>NaN</td>\n",
       "      <td>NaN</td>\n",
       "      <td>23.0</td>\n",
       "    </tr>\n",
       "  </tbody>\n",
       "</table>\n",
       "</div>"
      ],
      "text/plain": [
       "      a   c   d     e\n",
       "a  18.0 NaN NaN  20.0\n",
       "c   NaN NaN NaN   NaN\n",
       "d   NaN NaN NaN   NaN\n",
       "e  21.0 NaN NaN  23.0"
      ]
     },
     "execution_count": 59,
     "metadata": {},
     "output_type": "execute_result"
    }
   ],
   "source": [
    "a+b"
   ]
  },
  {
   "cell_type": "code",
   "execution_count": 58,
   "metadata": {},
   "outputs": [
    {
     "data": {
      "text/html": [
       "<div>\n",
       "<style>\n",
       "    .dataframe thead tr:only-child th {\n",
       "        text-align: right;\n",
       "    }\n",
       "\n",
       "    .dataframe thead th {\n",
       "        text-align: left;\n",
       "    }\n",
       "\n",
       "    .dataframe tbody tr th {\n",
       "        vertical-align: top;\n",
       "    }\n",
       "</style>\n",
       "<table border=\"1\" class=\"dataframe\">\n",
       "  <thead>\n",
       "    <tr style=\"text-align: right;\">\n",
       "      <th></th>\n",
       "      <th>a</th>\n",
       "      <th>c</th>\n",
       "      <th>d</th>\n",
       "      <th>e</th>\n",
       "    </tr>\n",
       "  </thead>\n",
       "  <tbody>\n",
       "    <tr>\n",
       "      <th>a</th>\n",
       "      <td>18.0</td>\n",
       "      <td>3.0</td>\n",
       "      <td>10.0</td>\n",
       "      <td>20.0</td>\n",
       "    </tr>\n",
       "    <tr>\n",
       "      <th>c</th>\n",
       "      <td>1.0</td>\n",
       "      <td>4.0</td>\n",
       "      <td>NaN</td>\n",
       "      <td>7.0</td>\n",
       "    </tr>\n",
       "    <tr>\n",
       "      <th>d</th>\n",
       "      <td>17.0</td>\n",
       "      <td>NaN</td>\n",
       "      <td>11.0</td>\n",
       "      <td>16.0</td>\n",
       "    </tr>\n",
       "    <tr>\n",
       "      <th>e</th>\n",
       "      <td>21.0</td>\n",
       "      <td>5.0</td>\n",
       "      <td>12.0</td>\n",
       "      <td>23.0</td>\n",
       "    </tr>\n",
       "  </tbody>\n",
       "</table>\n",
       "</div>"
      ],
      "text/plain": [
       "      a    c     d     e\n",
       "a  18.0  3.0  10.0  20.0\n",
       "c   1.0  4.0   NaN   7.0\n",
       "d  17.0  NaN  11.0  16.0\n",
       "e  21.0  5.0  12.0  23.0"
      ]
     },
     "execution_count": 58,
     "metadata": {},
     "output_type": "execute_result"
    }
   ],
   "source": [
    "a.add(b, fill_value=0)"
   ]
  },
  {
   "cell_type": "code",
   "execution_count": 1,
   "metadata": {
    "collapsed": true
   },
   "outputs": [],
   "source": [
    "import pandas as pd"
   ]
  },
  {
   "cell_type": "code",
   "execution_count": 2,
   "metadata": {
    "collapsed": true
   },
   "outputs": [],
   "source": [
    "i_ls=['a', 'b', 'c', 'd']"
   ]
  },
  {
   "cell_type": "code",
   "execution_count": 39,
   "metadata": {},
   "outputs": [
    {
     "data": {
      "text/html": [
       "<div>\n",
       "<style>\n",
       "    .dataframe thead tr:only-child th {\n",
       "        text-align: right;\n",
       "    }\n",
       "\n",
       "    .dataframe thead th {\n",
       "        text-align: left;\n",
       "    }\n",
       "\n",
       "    .dataframe tbody tr th {\n",
       "        vertical-align: top;\n",
       "    }\n",
       "</style>\n",
       "<table border=\"1\" class=\"dataframe\">\n",
       "  <thead>\n",
       "    <tr style=\"text-align: right;\">\n",
       "      <th></th>\n",
       "      <th>g</th>\n",
       "      <th>h</th>\n",
       "      <th>i</th>\n",
       "      <th>j</th>\n",
       "    </tr>\n",
       "  </thead>\n",
       "  <tbody>\n",
       "    <tr>\n",
       "      <th>a</th>\n",
       "      <td>1.098612</td>\n",
       "      <td>1.098612</td>\n",
       "      <td>1.098612</td>\n",
       "      <td>1.098612</td>\n",
       "    </tr>\n",
       "    <tr>\n",
       "      <th>b</th>\n",
       "      <td>1.098612</td>\n",
       "      <td>1.098612</td>\n",
       "      <td>1.098612</td>\n",
       "      <td>1.098612</td>\n",
       "    </tr>\n",
       "    <tr>\n",
       "      <th>c</th>\n",
       "      <td>1.098612</td>\n",
       "      <td>1.098612</td>\n",
       "      <td>1.098612</td>\n",
       "      <td>1.098612</td>\n",
       "    </tr>\n",
       "    <tr>\n",
       "      <th>d</th>\n",
       "      <td>1.098612</td>\n",
       "      <td>1.098612</td>\n",
       "      <td>1.098612</td>\n",
       "      <td>1.098612</td>\n",
       "    </tr>\n",
       "  </tbody>\n",
       "</table>\n",
       "</div>"
      ],
      "text/plain": [
       "          g         h         i         j\n",
       "a  1.098612  1.098612  1.098612  1.098612\n",
       "b  1.098612  1.098612  1.098612  1.098612\n",
       "c  1.098612  1.098612  1.098612  1.098612\n",
       "d  1.098612  1.098612  1.098612  1.098612"
      ]
     },
     "execution_count": 39,
     "metadata": {},
     "output_type": "execute_result"
    }
   ],
   "source": [
    "df=pd.DataFrame(3, index=i_ls, columns=['g', 'h', 'i', 'j'], dtype=int)\n",
    "np.log(df)"
   ]
  },
  {
   "cell_type": "code",
   "execution_count": 34,
   "metadata": {},
   "outputs": [
    {
     "data": {
      "text/plain": [
       "0"
      ]
     },
     "execution_count": 34,
     "metadata": {},
     "output_type": "execute_result"
    }
   ],
   "source": [
    "np.sum(df.loc['b'])"
   ]
  },
  {
   "cell_type": "code",
   "execution_count": 9,
   "metadata": {
    "collapsed": true
   },
   "outputs": [],
   "source": []
  },
  {
   "cell_type": "code",
   "execution_count": 36,
   "metadata": {},
   "outputs": [
    {
     "ename": "ValueError",
     "evalue": "cannot convert float NaN to integer",
     "output_type": "error",
     "traceback": [
      "\u001b[0;31m---------------------------------------------------------------------------\u001b[0m",
      "\u001b[0;31mValueError\u001b[0m                                Traceback (most recent call last)",
      "\u001b[0;32m<ipython-input-36-a5211e7fe85b>\u001b[0m in \u001b[0;36m<module>\u001b[0;34m()\u001b[0m\n\u001b[0;32m----> 1\u001b[0;31m \u001b[0mu\u001b[0m\u001b[0;34m=\u001b[0m\u001b[0mpd\u001b[0m\u001b[0;34m.\u001b[0m\u001b[0mSeries\u001b[0m\u001b[0;34m(\u001b[0m\u001b[0mCounter\u001b[0m\u001b[0;34m(\u001b[0m\u001b[0;34m[\u001b[0m\u001b[0;34m'b'\u001b[0m\u001b[0;34m,\u001b[0m \u001b[0;34m'b'\u001b[0m\u001b[0;34m,\u001b[0m \u001b[0;34m'd'\u001b[0m\u001b[0;34m,\u001b[0m \u001b[0;34m'd'\u001b[0m\u001b[0;34m,\u001b[0m \u001b[0;34m'd'\u001b[0m\u001b[0;34m,\u001b[0m \u001b[0;34m'e'\u001b[0m\u001b[0;34m,\u001b[0m \u001b[0;34m'e'\u001b[0m\u001b[0;34m]\u001b[0m\u001b[0;34m)\u001b[0m\u001b[0;34m,\u001b[0m \u001b[0mindex\u001b[0m\u001b[0;34m=\u001b[0m\u001b[0mi_ls\u001b[0m\u001b[0;34m,\u001b[0m \u001b[0mdtype\u001b[0m\u001b[0;34m=\u001b[0m\u001b[0mnp\u001b[0m\u001b[0;34m.\u001b[0m\u001b[0mint\u001b[0m\u001b[0;34m)\u001b[0m\u001b[0;34m.\u001b[0m\u001b[0mfillna\u001b[0m\u001b[0;34m(\u001b[0m\u001b[0;36m0\u001b[0m\u001b[0;34m)\u001b[0m\u001b[0;34m\u001b[0m\u001b[0m\n\u001b[0m",
      "\u001b[0;32m/Users/alistairwillis/anaconda/lib/python3.5/site-packages/pandas/core/series.py\u001b[0m in \u001b[0;36m__init__\u001b[0;34m(self, data, index, dtype, name, copy, fastpath)\u001b[0m\n\u001b[1;32m    246\u001b[0m             \u001b[0;32melse\u001b[0m\u001b[0;34m:\u001b[0m\u001b[0;34m\u001b[0m\u001b[0m\n\u001b[1;32m    247\u001b[0m                 data = _sanitize_array(data, index, dtype, copy,\n\u001b[0;32m--> 248\u001b[0;31m                                        raise_cast_failure=True)\n\u001b[0m\u001b[1;32m    249\u001b[0m \u001b[0;34m\u001b[0m\u001b[0m\n\u001b[1;32m    250\u001b[0m                 \u001b[0mdata\u001b[0m \u001b[0;34m=\u001b[0m \u001b[0mSingleBlockManager\u001b[0m\u001b[0;34m(\u001b[0m\u001b[0mdata\u001b[0m\u001b[0;34m,\u001b[0m \u001b[0mindex\u001b[0m\u001b[0;34m,\u001b[0m \u001b[0mfastpath\u001b[0m\u001b[0;34m=\u001b[0m\u001b[0;32mTrue\u001b[0m\u001b[0;34m)\u001b[0m\u001b[0;34m\u001b[0m\u001b[0m\n",
      "\u001b[0;32m/Users/alistairwillis/anaconda/lib/python3.5/site-packages/pandas/core/series.py\u001b[0m in \u001b[0;36m_sanitize_array\u001b[0;34m(data, index, dtype, copy, raise_cast_failure)\u001b[0m\n\u001b[1;32m   2965\u001b[0m         \u001b[0;32mif\u001b[0m \u001b[0mdtype\u001b[0m \u001b[0;32mis\u001b[0m \u001b[0;32mnot\u001b[0m \u001b[0;32mNone\u001b[0m\u001b[0;34m:\u001b[0m\u001b[0;34m\u001b[0m\u001b[0m\n\u001b[1;32m   2966\u001b[0m             \u001b[0;32mtry\u001b[0m\u001b[0;34m:\u001b[0m\u001b[0;34m\u001b[0m\u001b[0m\n\u001b[0;32m-> 2967\u001b[0;31m                 \u001b[0msubarr\u001b[0m \u001b[0;34m=\u001b[0m \u001b[0m_try_cast\u001b[0m\u001b[0;34m(\u001b[0m\u001b[0mdata\u001b[0m\u001b[0;34m,\u001b[0m \u001b[0;32mFalse\u001b[0m\u001b[0;34m)\u001b[0m\u001b[0;34m\u001b[0m\u001b[0m\n\u001b[0m\u001b[1;32m   2968\u001b[0m             \u001b[0;32mexcept\u001b[0m \u001b[0mException\u001b[0m\u001b[0;34m:\u001b[0m\u001b[0;34m\u001b[0m\u001b[0m\n\u001b[1;32m   2969\u001b[0m                 \u001b[0;32mif\u001b[0m \u001b[0mraise_cast_failure\u001b[0m\u001b[0;34m:\u001b[0m  \u001b[0;31m# pragma: no cover\u001b[0m\u001b[0;34m\u001b[0m\u001b[0m\n",
      "\u001b[0;32m/Users/alistairwillis/anaconda/lib/python3.5/site-packages/pandas/core/series.py\u001b[0m in \u001b[0;36m_try_cast\u001b[0;34m(arr, take_fast_path)\u001b[0m\n\u001b[1;32m   2919\u001b[0m             \u001b[0msubarr\u001b[0m \u001b[0;34m=\u001b[0m \u001b[0mmaybe_cast_to_datetime\u001b[0m\u001b[0;34m(\u001b[0m\u001b[0marr\u001b[0m\u001b[0;34m,\u001b[0m \u001b[0mdtype\u001b[0m\u001b[0;34m)\u001b[0m\u001b[0;34m\u001b[0m\u001b[0m\n\u001b[1;32m   2920\u001b[0m             \u001b[0;32mif\u001b[0m \u001b[0;32mnot\u001b[0m \u001b[0mis_extension_type\u001b[0m\u001b[0;34m(\u001b[0m\u001b[0msubarr\u001b[0m\u001b[0;34m)\u001b[0m\u001b[0;34m:\u001b[0m\u001b[0;34m\u001b[0m\u001b[0m\n\u001b[0;32m-> 2921\u001b[0;31m                 \u001b[0msubarr\u001b[0m \u001b[0;34m=\u001b[0m \u001b[0mnp\u001b[0m\u001b[0;34m.\u001b[0m\u001b[0marray\u001b[0m\u001b[0;34m(\u001b[0m\u001b[0msubarr\u001b[0m\u001b[0;34m,\u001b[0m \u001b[0mdtype\u001b[0m\u001b[0;34m=\u001b[0m\u001b[0mdtype\u001b[0m\u001b[0;34m,\u001b[0m \u001b[0mcopy\u001b[0m\u001b[0;34m=\u001b[0m\u001b[0mcopy\u001b[0m\u001b[0;34m)\u001b[0m\u001b[0;34m\u001b[0m\u001b[0m\n\u001b[0m\u001b[1;32m   2922\u001b[0m         \u001b[0;32mexcept\u001b[0m \u001b[0;34m(\u001b[0m\u001b[0mValueError\u001b[0m\u001b[0;34m,\u001b[0m \u001b[0mTypeError\u001b[0m\u001b[0;34m)\u001b[0m\u001b[0;34m:\u001b[0m\u001b[0;34m\u001b[0m\u001b[0m\n\u001b[1;32m   2923\u001b[0m             \u001b[0;32mif\u001b[0m \u001b[0mis_categorical_dtype\u001b[0m\u001b[0;34m(\u001b[0m\u001b[0mdtype\u001b[0m\u001b[0;34m)\u001b[0m\u001b[0;34m:\u001b[0m\u001b[0;34m\u001b[0m\u001b[0m\n",
      "\u001b[0;31mValueError\u001b[0m: cannot convert float NaN to integer"
     ]
    }
   ],
   "source": [
    "u=pd.Series(Counter(['b', 'b', 'd', 'd', 'd', 'e', 'e']), index=i_ls, dtype=np.int).fillna(0)"
   ]
  },
  {
   "cell_type": "code",
   "execution_count": 20,
   "metadata": {},
   "outputs": [
    {
     "data": {
      "text/plain": [
       "a    0.0\n",
       "b    2.0\n",
       "c    0.0\n",
       "d    3.0\n",
       "dtype: float64"
      ]
     },
     "execution_count": 20,
     "metadata": {},
     "output_type": "execute_result"
    }
   ],
   "source": [
    "u"
   ]
  },
  {
   "cell_type": "code",
   "execution_count": 21,
   "metadata": {
    "collapsed": true
   },
   "outputs": [],
   "source": [
    "u=u/np.sum(u)"
   ]
  },
  {
   "cell_type": "code",
   "execution_count": 42,
   "metadata": {},
   "outputs": [
    {
     "data": {
      "text/plain": [
       "True"
      ]
     },
     "execution_count": 42,
     "metadata": {},
     "output_type": "execute_result"
    }
   ],
   "source": [
    "not all(u==0)"
   ]
  },
  {
   "cell_type": "code",
   "execution_count": null,
   "metadata": {
    "collapsed": true
   },
   "outputs": [],
   "source": []
  }
 ],
 "metadata": {
  "kernelspec": {
   "display_name": "Python [conda root]",
   "language": "python",
   "name": "conda-root-py"
  },
  "language_info": {
   "codemirror_mode": {
    "name": "ipython",
    "version": 3
   },
   "file_extension": ".py",
   "mimetype": "text/x-python",
   "name": "python",
   "nbconvert_exporter": "python",
   "pygments_lexer": "ipython3",
   "version": "3.5.4"
  }
 },
 "nbformat": 4,
 "nbformat_minor": 2
}
