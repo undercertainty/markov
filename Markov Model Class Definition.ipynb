{
 "cells": [
  {
   "cell_type": "markdown",
   "metadata": {},
   "source": [
    "# Markov Model class definition"
   ]
  },
  {
   "cell_type": "markdown",
   "metadata": {},
   "source": [
    "This notebook defines a constructor for a Markov model class."
   ]
  },
  {
   "cell_type": "code",
   "execution_count": 1,
   "metadata": {},
   "outputs": [
    {
     "data": {
      "text/plain": [
       "{'divide': 'warn', 'invalid': 'warn', 'over': 'warn', 'under': 'ignore'}"
      ]
     },
     "execution_count": 1,
     "metadata": {},
     "output_type": "execute_result"
    }
   ],
   "source": [
    "# Put all the imports at the beginning\n",
    "\n",
    "import pandas as pd\n",
    "import numpy as np\n",
    "\n",
    "from collections import Counter\n",
    "from copy import deepcopy\n",
    "\n",
    "np.seterr(divide='ignore')"
   ]
  },
  {
   "cell_type": "markdown",
   "metadata": {},
   "source": [
    "Before the Markov model class, I also need a MarkovState class. The MarkovState class will contain the information about the state following one or more transitional steps from the MM.\n",
    "\n",
    "This class needs the following data:\n",
    "\n",
    "1. An index (index_ls) of the states considered in the MarkovState\n",
    "\n",
    "2. A (logged) probabilistic distribution of the current state (currentState_ar)\n",
    "\n",
    "3. A structure containing the historical paths to each node in the index."
   ]
  },
  {
   "cell_type": "code",
   "execution_count": 2,
   "metadata": {
    "collapsed": true
   },
   "outputs": [],
   "source": [
    "class MarkovState:\n",
    "    \n",
    "    def __init__(self, currentLogState_sr, paths_df):\n",
    "        \n",
    "        self.myCurrentLogState_sr=currentLogState_sr\n",
    "        self.myPaths_df=paths_df\n",
    "        \n",
    "    def get_log_current_state_distribution(self):\n",
    "        return self.myCurrentLogState_sr\n",
    "    \n",
    "    def get_current_state_distribution(self):\n",
    "        return np.exp(self.myCurrentLogState_sr)\n",
    "    \n",
    "    def get_index(self):\n",
    "        return list(self.myCurrentLogState_sr.index)\n",
    "    \n",
    "    def get_path_dataframe(self):\n",
    "        return self.myPaths_df\n",
    "        \n",
    "    def most_likely_path(self, state):\n",
    "        '''\n",
    "        Find the most likely path to the current state,\n",
    "        as found from the path history\n",
    "        '''\n",
    "        # Hacky, but seems to work\n",
    "        s=state\n",
    "        o=[state]\n",
    "        for c in reversed(self.myPaths_df.columns):\n",
    "            o.append(self.myPaths_df[c][s])\n",
    "            s=self.myPaths_df[c][s]\n",
    "        o.reverse()\n",
    "        return o[1:]\n",
    "\n",
    "    def most_likely_state(self, n=1):\n",
    "        '''\n",
    "        Return the n most likely states to have ended up in.\n",
    "        '''\n",
    "        return [y[1] for y in sorted([x for x in zip(self.get_current_state_distribution(), self.get_index())],\n",
    "                                     reverse=True)\n",
    "               ][:n]"
   ]
  },
  {
   "cell_type": "markdown",
   "metadata": {},
   "source": [
    "Although it's not the only way of defining a Markov model, for the moment, I'm going to do the definition by taking arguments in the constructor that represent a distribution of transitions."
   ]
  },
  {
   "cell_type": "code",
   "execution_count": 3,
   "metadata": {
    "collapsed": true
   },
   "outputs": [],
   "source": [
    "class MarkovModel:\n",
    "    \n",
    "    def __init__(self, transitions_ls, initialStates_ls=[]):\n",
    "        '''\n",
    "        Take a list of initial states, and a list of pairs of transitions\n",
    "        between states. Create a Markov model based on the distribution of\n",
    "        initial states, and distribution of transitions.\n",
    "        \n",
    "        If initialStates_ls is empty, assume an equal distribution over all\n",
    "        the states obtained from the transitions and the extra states.\n",
    "        '''\n",
    "\n",
    "        # First, build the list of all states in the model\n",
    "        self.stateIndex_ls=list({x for x in initialStates_ls}. \\\n",
    "                                 union({x for (x, y) in transitions_ls}). \\\n",
    "                                 union({y for (x, y) in transitions_ls}))\n",
    "        self.stateIndex_ls.sort()  # Just for aesthetics\n",
    "\n",
    "        # Now build a series that contains the initial states\n",
    "        if initialStates_ls:\n",
    "            self.initialState_sr=pd.Series(Counter(initialStates_ls),\n",
    "                                           index=self.stateIndex_ls).fillna(0)\n",
    "        else:\n",
    "            self.initialState_sr=pd.Series(Counter(self.stateIndex_ls), \n",
    "                                           index=self.stateIndex_ls).fillna(0)\n",
    "        \n",
    "        # and normalise the values so the prob.s sum to 1\n",
    "        self.initialState_sr=self.initialState_sr/np.sum(self.initialState_sr)\n",
    "        \n",
    "        # And convert to a Markov State\n",
    "        self.initialState_ms=MarkovState(np.log(self.initialState_sr),\n",
    "                                         pd.DataFrame(index=self.initialState_sr.index,\n",
    "                                                      columns=[0]))\n",
    "\n",
    "        # Now build an array that encodes the transitions\n",
    "        self.transitionMatrix_df=pd.DataFrame(0,\n",
    "                                              index=self.stateIndex_ls,\n",
    "                                              columns=self.stateIndex_ls)\n",
    "        \n",
    "        for (x, y) in transitions_ls:\n",
    "            self.transitionMatrix_df.loc[x][y]+=1\n",
    "        for row_ix in self.transitionMatrix_df.index:\n",
    "            if not all(self.transitionMatrix_df.loc[row_ix]==0):\n",
    "                self.transitionMatrix_df.loc[row_ix]= \\\n",
    "                   self.transitionMatrix_df.loc[row_ix]/ \\\n",
    "                     np.sum(self.transitionMatrix_df.loc[row_ix])\n",
    "                \n",
    "        # Take the log of the transition matrix to make\n",
    "        # calculations more accurate\n",
    "        self.logTransitionMatrix_df=np.log(self.transitionMatrix_df)\n",
    "\n",
    "        # Same for the initial states:\n",
    "        self.logInitialState_sr=np.log(self.initialState_sr)\n",
    "\n",
    "\n",
    "    def create_markov_state(self, statesIn_ls):\n",
    "        '''\n",
    "        Helper function to convert a list of states\n",
    "        to a MarkovState object. Usually used as the\n",
    "        first step of input to the apply method.\n",
    "        '''\n",
    "        \n",
    "        statesDist_sr=pd.Series(Counter(statesIn_ls),\n",
    "                                index=self.transitionMatrix_df.index\n",
    "                               ).fillna(0)\n",
    "        statesDist_sr=statesDist_sr/np.sum(statesDist_sr)\n",
    "        \n",
    "        return MarkovState(np.log(statesDist_sr),\n",
    "                           pd.DataFrame(index=self.transitionMatrix_df.index,\n",
    "                                        columns=[0]))\n",
    "        \n",
    "    def apply_1(self, stateIn_ms):\n",
    "        '''\n",
    "        Helper function to apply: applies the transition matrix\n",
    "        for self to stateIn_ms. Returns the pair of the log \n",
    "        distribution of outputs and the previous state from \n",
    "        which the next state is arrived at.\n",
    "        '''\n",
    "        logCurrentState_sr=stateIn_ms.get_log_current_state_distribution()\n",
    "        logNextState_sr=pd.Series(index=logCurrentState_sr.index)\n",
    "        previousState_sr=pd.Series(index=logCurrentState_sr.index)\n",
    "        \n",
    "        # For each column in the logged transition matrix:\n",
    "        for c in self.logTransitionMatrix_df.index:\n",
    "\n",
    "            # multiply (logged) each of the transition probabilities\n",
    "            # by the probability of being in that state\n",
    "            calculateTransitions_sr=logCurrentState_sr + \\\n",
    "                                    self.logTransitionMatrix_df[c]\n",
    "            \n",
    "            logNextState_sr[c]=calculateTransitions_sr.max()\n",
    "            previousState_sr[c]=calculateTransitions_sr.idxmax()\n",
    "            \n",
    "        tmp_df=stateIn_ms.get_path_dataframe()\n",
    "        tmp_df[max(tmp_df.columns)+1]=previousState_sr\n",
    "            \n",
    "        return MarkovState(logNextState_sr,\n",
    "                           tmp_df)\n",
    "\n",
    "    def apply(self, stateIn_ms, steps=1):\n",
    "        '''\n",
    "        Takes an input MarkovState, and returns the output\n",
    "        MarkovState following steps applications.\n",
    "        \n",
    "        Can also take a list of states as an alternative to\n",
    "        the input MarkovState, in which case it will be \n",
    "        converted as necessary.\n",
    "\n",
    "        Both stateIn_ar and transitionIn_ar are expressed as logs.\n",
    "        \n",
    "        TODO: Raise an error if indices don't match, or if a\n",
    "              list is input which contains nonexistent states.\n",
    "        '''\n",
    "        \n",
    "        # First, if the given argument is not a MarkovState,\n",
    "        # generate one based on the input\n",
    "        if not isinstance(stateIn_ms, MarkovState):\n",
    "            stateIn_ms=self.create_markov_state(stateIn_ms)\n",
    "    \n",
    "        # Next, let's call a helper function apply_1\n",
    "        # to make the application once\n",
    "        \n",
    "        stateOut_ms=deepcopy(stateIn_ms)\n",
    "\n",
    "        for i in range(steps):\n",
    "            stateOut_ms=self.apply_1(stateOut_ms)\n",
    "        \n",
    "        return stateOut_ms\n",
    "    \n",
    "    def transition_weight(self, state1, state2):\n",
    "        '''\n",
    "        Return the weight (usually a probability, if the weight\n",
    "        of all leaving arcs sum to 1) of the arc from state1\n",
    "        to state2\n",
    "        '''\n",
    "        return self.transitionMatrix_ar[self.stateIndex_ls.index(state1)][self.stateIndex_ls.index(state2)]\n",
    "    \n",
    "    def get_states(self):\n",
    "        '''\n",
    "        Return list of states in model\n",
    "        '''\n",
    "        return list(self.transitionMatrix_df.index)\n",
    "    \n",
    "    def get_initial_state(self):\n",
    "        '''\n",
    "        Return the initial states as a Markov State\n",
    "        '''\n",
    "        return self.initialState_ms"
   ]
  },
  {
   "cell_type": "markdown",
   "metadata": {},
   "source": [
    "Now we're going to try to write some code to merge two different markov models. This isn't mathematically particularly well founded, but what the heck. It's quite a bit easier now that we've got everything in terms of dataframes."
   ]
  },
  {
   "cell_type": "markdown",
   "metadata": {},
   "source": [
    "Can't reconstruct the input arrays from the models themselves, so let's create a subclass of MM so we can override `__init__`:"
   ]
  },
  {
   "cell_type": "code",
   "execution_count": 4,
   "metadata": {
    "collapsed": true
   },
   "outputs": [],
   "source": [
    "class MarkovModelFromTransitionMatrix(MarkovModel):\n",
    "    def __init__(self, transitionMatrixIn_df):\n",
    "        '''\n",
    "        Give the arrays directly. Note, this is not generally\n",
    "        intended to be called by the user.\n",
    "        '''\n",
    "\n",
    "        # Now store the array that encodes the transitions,\n",
    "        self.transitionMatrix_df=transitionMatrixIn_df\n",
    "        # and take the log\n",
    "        self.logTransitionMatrix_df=np.log(self.transitionMatrix_df)\n"
   ]
  },
  {
   "cell_type": "code",
   "execution_count": 5,
   "metadata": {
    "collapsed": true
   },
   "outputs": [],
   "source": [
    "def merge(model1, model2, weight, normalise=True):\n",
    "    '''\n",
    "    Combine the transition matrices of model1 and model2 into\n",
    "    an averaged model, in which model1 has weight, and model2\n",
    "    has (1-weight).\n",
    "    \n",
    "    If normalise==True, then adjust the model so that the\n",
    "    outputs from all nodes sum to 1 (or zero if no leaving\n",
    "    arcs).\n",
    "    '''\n",
    "    \n",
    "    m1=model1.transitionMatrix_df*weight\n",
    "    m2=model2.transitionMatrix_df*(1-weight)\n",
    "\n",
    "    return MarkovModelFromTransitionMatrix((m1.add(m2, fill_value=0)).fillna(0))\n"
   ]
  },
  {
   "cell_type": "markdown",
   "metadata": {
    "collapsed": true
   },
   "source": [
    "That's interesting... exporting as python creates a bug with raw cells. Better change them to markdown:"
   ]
  },
  {
   "cell_type": "markdown",
   "metadata": {},
   "source": [
    "mm1=MarkovModel([('a', 'b'), ('a', 'c'), ('a', 'c'), ('c', 'b'), ('c', 'a')])\n",
    "mm1.transitionMatrix_df"
   ]
  },
  {
   "cell_type": "markdown",
   "metadata": {},
   "source": [
    "mm2=MarkovModel([('b', 'd'), ('d', 'c'), ('d', 'd'), ('c', 'd'), ('b', 'd')])\n",
    "mm2.transitionMatrix_df"
   ]
  },
  {
   "cell_type": "markdown",
   "metadata": {},
   "source": [
    "combined_mm=merge(mm1, mm2, 0.3)"
   ]
  },
  {
   "cell_type": "markdown",
   "metadata": {},
   "source": [
    "combined_mm.transitionMatrix_df"
   ]
  },
  {
   "cell_type": "markdown",
   "metadata": {},
   "source": [
    "s0=combined_mm.create_markov_state(['a'])"
   ]
  },
  {
   "cell_type": "markdown",
   "metadata": {},
   "source": [
    "s0.get_current_state_distribution()"
   ]
  },
  {
   "cell_type": "markdown",
   "metadata": {},
   "source": [
    "s0.get_path_dataframe()"
   ]
  },
  {
   "cell_type": "markdown",
   "metadata": {},
   "source": [
    "s_ms=combined_mm.apply(s0, 5)"
   ]
  },
  {
   "cell_type": "markdown",
   "metadata": {},
   "source": [
    "s_ms.get_path_dataframe()"
   ]
  },
  {
   "cell_type": "markdown",
   "metadata": {
    "collapsed": true
   },
   "source": [
    "s_ms.most_likely_path('a')"
   ]
  },
  {
   "cell_type": "markdown",
   "metadata": {},
   "source": [
    "So my minimal testing suggests that this is now working reasonably reliably."
   ]
  }
 ],
 "metadata": {
  "kernelspec": {
   "display_name": "Python [conda root]",
   "language": "python",
   "name": "conda-root-py"
  },
  "language_info": {
   "codemirror_mode": {
    "name": "ipython",
    "version": 3
   },
   "file_extension": ".py",
   "mimetype": "text/x-python",
   "name": "python",
   "nbconvert_exporter": "python",
   "pygments_lexer": "ipython3",
   "version": "3.5.4"
  }
 },
 "nbformat": 4,
 "nbformat_minor": 2
}
