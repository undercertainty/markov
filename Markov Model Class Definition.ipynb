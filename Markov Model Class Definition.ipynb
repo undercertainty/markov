{
 "cells": [
  {
   "cell_type": "markdown",
   "metadata": {},
   "source": [
    "# Markov Model class definition"
   ]
  },
  {
   "cell_type": "markdown",
   "metadata": {},
   "source": [
    "This notebook defines a constructor for a Markov model class."
   ]
  },
  {
   "cell_type": "code",
   "execution_count": 19,
   "metadata": {
    "collapsed": true
   },
   "outputs": [],
   "source": [
    "# Put all the imports at the beginning\n",
    "\n",
    "import numpy as np"
   ]
  },
  {
   "cell_type": "markdown",
   "metadata": {},
   "source": [
    "Although it's not the only way of defining a Markov model, for the moment, I'm going to do the definition by taking arguments in the constructor that represent a distribution of transitions."
   ]
  },
  {
   "cell_type": "code",
   "execution_count": 44,
   "metadata": {
    "collapsed": true
   },
   "outputs": [],
   "source": [
    "class MarkovModel:\n",
    "    \n",
    "    def __init__(self, transitions_ls, initialStates_ls=[], extraStates_ls=[]):\n",
    "        '''\n",
    "        Take a list of initial states, and a list of pairs of transitions\n",
    "        between states. Create a Markov model based on the distribution of\n",
    "        initial states, and distribution of transitions.\n",
    "        \n",
    "        extraStates_ls is a list of additional states which do not appear\n",
    "        in the two lists initialStates_ls and transitions_ls.\n",
    "        \n",
    "        If initialStates_ls is empty, assume an equal distribution over all\n",
    "        the states obtained from the transitions and the extra states.\n",
    "        '''\n",
    "        \n",
    "        # First, build the list of all states in the model\n",
    "        self.stateIndex_ls=list({x for x in initialStates_ls}. \\\n",
    "                                 union({x for (x, y) in transitions_ls}). \\\n",
    "                                 union({y for (x, y) in transitions_ls}). \\\n",
    "                                 union(set(extraStates_ls)))\n",
    "        self.stateIndex_ls.sort() # just for aesthetics\n",
    "\n",
    "        # Now build an array that contains the initial states\n",
    "        if initialStates_ls==[]:\n",
    "            initialStates_ls=self.stateIndex_ls        \n",
    "        self.initialState_ar=np.array([initialStates_ls.count(state) \n",
    "                                       for state in self.stateIndex_ls])\n",
    "        # and normalise the values so the prob.s sum to 1\n",
    "        self.initialState_ar=self.initialState_ar/np.sum(self.initialState_ar)\n",
    "        \n",
    "        # Now build an array that encodes the transitions\n",
    "        self.transitionMatrix_ar=np.zeros((len(self.stateIndex_ls), \n",
    "                                           len(self.stateIndex_ls)), \n",
    "                                          dtype=np.float)  # Normally int, but we're\n",
    "                                                           # going to normalise\n",
    "        for (x, y) in transitions_ls:\n",
    "            self.transitionMatrix_ar[self.stateIndex_ls.index(x)][self.stateIndex_ls.index(y)]+=1\n",
    "        for (i, r) in enumerate(self.transitionMatrix_ar):\n",
    "            if np.sum(self.transitionMatrix_ar[i])>0:\n",
    "                self.transitionMatrix_ar[i]=self.transitionMatrix_ar[i]/sum(self.transitionMatrix_ar[i])\n",
    "                \n",
    "        # Take the log of the transition matrix to make\n",
    "        # calculations more accurate\n",
    "        self.logTransitionMatrix_ar=np.log(self.transitionMatrix_ar)\n",
    "        \n",
    "        # Same for the initial states:\n",
    "        self.logInitialState_ar=np.log(self.initialState_ar)\n",
    "        \n",
    "    def apply(self, stateIn_ms, steps=1):\n",
    "        '''\n",
    "        Takes an input MarkovState, and returns the output\n",
    "        MarkovState following steps applications.\n",
    "        \n",
    "        Can also take a list of states as an alternative to\n",
    "        the input MarkovState, in which case it will be \n",
    "        converted as necessary.\n",
    "\n",
    "        Both stateIn_ar and transitionIn_ar are expressed as logs.\n",
    "        \n",
    "        TODO: Raise an error if indices don't match, or if a\n",
    "              list is input which contains nonexistent states.\n",
    "        '''\n",
    "        \n",
    "        if not isinstance(stateIn_ms, MarkovState):\n",
    "            # Need to raise an error if it's not list-like,\n",
    "            # if it's empty, or if there's a state that's\n",
    "            # not in the transition matrix\n",
    "            #\n",
    "            # For non-list-like, read \"doesn't support count()\"\n",
    "            initialStatesDist_ls=[stateIn_ms.count(s) for s in self.stateIndex_ls]\n",
    "            dist_ar=np.array([initialStatesDist_ls])/np.sum(initialStatesDist_ls)\n",
    "            stateIn_ms=MarkovState(self.stateIndex_ls,\n",
    "                                   np.log(dist_ar),\n",
    "                                   [])\n",
    "        return stateIn_ms\n",
    "\n",
    "\n",
    "    if False:\n",
    "        stateOut_ar=np.empty(stateIn_ar.shape)\n",
    "        transOut_ar=np.zeros(stateIn_ar.shape, dtype=np.int)\n",
    "\n",
    "        for (i, x) in enumerate(stateIn_ar):\n",
    "            calculateTransitions_ar=stateIn_ar + transitionMatrix_ar[i]\n",
    "            argmax_i=np.argmax(calculateTransitions_ar)\n",
    "\n",
    "            stateOut_ar[i]=calculateTransitions_ar[argmax_i]\n",
    "            transOut_ar[i]=argmax_i\n",
    "\n",
    "\n",
    "        return (stateOut_ar, transOut_ar)\n",
    "    \n"
   ]
  },
  {
   "cell_type": "markdown",
   "metadata": {},
   "source": [
    "Now, as well as the Markov model class, I also want a MarkovState class. The MarkovState class will contain the information about the state following one or more transitional steps from the MM.\n",
    "\n",
    "This class needs the following data:\n",
    "\n",
    "1. An index (index_ls) of the states considered in the MarkovState\n",
    "\n",
    "2. A (logged) probabilistic distribution of the current state (currentState_ar)\n",
    "\n",
    "3. A structure containing the historical paths to each node in the index."
   ]
  },
  {
   "cell_type": "code",
   "execution_count": 45,
   "metadata": {
    "collapsed": true
   },
   "outputs": [],
   "source": [
    "class MarkovState:\n",
    "    \n",
    "    def __init__(self, index_ls, currentState_ar, paths_ls):\n",
    "        \n",
    "        self.myIndex_ls=index_ls\n",
    "        self.myCurrentState_ar=currentState_ar\n",
    "        self.myPaths_ls=paths_ls\n",
    "        \n",
    "        \n",
    "        \n",
    "    "
   ]
  },
  {
   "cell_type": "code",
   "execution_count": 46,
   "metadata": {},
   "outputs": [],
   "source": [
    "u=MarkovState(1, 2, 3)"
   ]
  },
  {
   "cell_type": "code",
   "execution_count": 47,
   "metadata": {},
   "outputs": [
    {
     "data": {
      "text/plain": [
       "True"
      ]
     },
     "execution_count": 47,
     "metadata": {},
     "output_type": "execute_result"
    }
   ],
   "source": [
    "isinstance(u, MarkovState)"
   ]
  },
  {
   "cell_type": "code",
   "execution_count": 48,
   "metadata": {},
   "outputs": [],
   "source": [
    "transitions_ls=[('a', 'a'), ('a', 'b'), ('a', 'b'), ('a', 'b'), ('a', 'b'), \n",
    "                ('a', 'c'), ('a', 'c'), ('a', 'c'), ('a', 'c'), ('a', 'c'), \n",
    "                ('b', 'a'), ('b', 'b'), ('b', 'b'), ('b', 'b'), ('b', 'b'), \n",
    "                ('b', 'b'), ('b', 'b'), ('b', 'b'), ('b', 'b'), ('b', 'c'),\n",
    "                ('c', 'a'), ('c', 'a'), ('c', 'a'), ('c', 'b'), ('c', 'b'),\n",
    "                ('c', 'b'), ('c', 'b'), ('c', 'c'), ('c', 'c'), ('c', 'c')]"
   ]
  },
  {
   "cell_type": "code",
   "execution_count": 49,
   "metadata": {},
   "outputs": [],
   "source": [
    "m=MarkovModel(transitions_ls)"
   ]
  },
  {
   "cell_type": "code",
   "execution_count": 50,
   "metadata": {},
   "outputs": [
    {
     "name": "stderr",
     "output_type": "stream",
     "text": [
      "/Users/alistairwillis/anaconda/lib/python3.5/site-packages/ipykernel/__main__.py:70: RuntimeWarning: divide by zero encountered in log\n"
     ]
    }
   ],
   "source": [
    "u=m.apply(['a', 'b', 'b', 'd'])"
   ]
  },
  {
   "cell_type": "code",
   "execution_count": 53,
   "metadata": {},
   "outputs": [
    {
     "data": {
      "text/plain": [
       "array([[-1.09861229, -0.40546511,        -inf]])"
      ]
     },
     "execution_count": 53,
     "metadata": {},
     "output_type": "execute_result"
    }
   ],
   "source": [
    "u.myCurrentState_ar"
   ]
  },
  {
   "cell_type": "code",
   "execution_count": null,
   "metadata": {
    "collapsed": true
   },
   "outputs": [],
   "source": []
  }
 ],
 "metadata": {
  "kernelspec": {
   "display_name": "Python [conda root]",
   "language": "python",
   "name": "conda-root-py"
  },
  "language_info": {
   "codemirror_mode": {
    "name": "ipython",
    "version": 3
   },
   "file_extension": ".py",
   "mimetype": "text/x-python",
   "name": "python",
   "nbconvert_exporter": "python",
   "pygments_lexer": "ipython3",
   "version": "3.5.4"
  }
 },
 "nbformat": 4,
 "nbformat_minor": 2
}
