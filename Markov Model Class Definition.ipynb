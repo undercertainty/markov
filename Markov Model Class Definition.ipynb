{
 "cells": [
  {
   "cell_type": "markdown",
   "metadata": {},
   "source": [
    "# Markov Model class definition"
   ]
  },
  {
   "cell_type": "markdown",
   "metadata": {},
   "source": [
    "This notebook defines a constructor for a Markov model class."
   ]
  },
  {
   "cell_type": "code",
   "execution_count": 32,
   "metadata": {},
   "outputs": [
    {
     "data": {
      "text/plain": [
       "{'divide': 'ignore', 'invalid': 'warn', 'over': 'warn', 'under': 'ignore'}"
      ]
     },
     "execution_count": 32,
     "metadata": {},
     "output_type": "execute_result"
    }
   ],
   "source": [
    "# Put all the imports at the beginning\n",
    "\n",
    "import pandas as pd\n",
    "import numpy as np\n",
    "\n",
    "from collections import Counter\n",
    "\n",
    "np.seterr(divide='ignore')"
   ]
  },
  {
   "cell_type": "markdown",
   "metadata": {},
   "source": [
    "Before the Markov model class, I also need a MarkovState class. The MarkovState class will contain the information about the state following one or more transitional steps from the MM.\n",
    "\n",
    "This class needs the following data:\n",
    "\n",
    "1. An index (index_ls) of the states considered in the MarkovState\n",
    "\n",
    "2. A (logged) probabilistic distribution of the current state (currentState_ar)\n",
    "\n",
    "3. A structure containing the historical paths to each node in the index."
   ]
  },
  {
   "cell_type": "code",
   "execution_count": 67,
   "metadata": {
    "collapsed": true
   },
   "outputs": [],
   "source": [
    "class MarkovState:\n",
    "    \n",
    "    def __init__(self, currentLogState_sr, paths_df):\n",
    "        \n",
    "        self.myCurrentLogState_sr=currentLogState_sr\n",
    "        self.myPaths_df=paths_df\n",
    "        \n",
    "    def get_log_current_state_distribution(self):\n",
    "        return self.myCurrentLogState_sr\n",
    "    \n",
    "    def get_current_state_distribution(self):\n",
    "        return np.exp(self.myCurrentLogState_sr)\n",
    "    \n",
    "    def get_index(self):\n",
    "        return list(self.myCurrentLogState_sr.index)\n",
    "    \n",
    "    def get_path_dataframe(self):\n",
    "        return self.myPaths_df\n",
    "        \n",
    "    def most_likely_path(self, state):\n",
    "        '''\n",
    "        Find the most likely path to the current state,\n",
    "        as found from the path history\n",
    "        '''\n",
    "        # Hacky, but seems to work\n",
    "        s=state\n",
    "        o=[state]\n",
    "        for c in reversed(self.myPaths_df.columns):\n",
    "            o.append(self.myPaths_df[c][s])\n",
    "            s=self.myPaths_df[c][s]\n",
    "        o.reverse()\n",
    "        return o[1:]\n",
    "\n",
    "    def most_likely_state(self, n=1):\n",
    "        '''\n",
    "        Return the n most likely states to have ended up in.\n",
    "        '''\n",
    "        return [y[1] for y in sorted([x for x in zip(self.get_current_state_distribution(), self.get_index())],\n",
    "                                     reverse=True)\n",
    "               ][:n]"
   ]
  },
  {
   "cell_type": "markdown",
   "metadata": {},
   "source": [
    "Although it's not the only way of defining a Markov model, for the moment, I'm going to do the definition by taking arguments in the constructor that represent a distribution of transitions."
   ]
  },
  {
   "cell_type": "code",
   "execution_count": 68,
   "metadata": {},
   "outputs": [],
   "source": [
    "class MarkovModel:\n",
    "    \n",
    "    def __init__(self, transitions_ls, initialStates_ls=[]):\n",
    "        '''\n",
    "        Take a list of initial states, and a list of pairs of transitions\n",
    "        between states. Create a Markov model based on the distribution of\n",
    "        initial states, and distribution of transitions.\n",
    "        \n",
    "        If initialStates_ls is empty, assume an equal distribution over all\n",
    "        the states obtained from the transitions and the extra states.\n",
    "        '''\n",
    "\n",
    "        # First, build the list of all states in the model\n",
    "        self.stateIndex_ls=list({x for x in initialStates_ls}. \\\n",
    "                                 union({x for (x, y) in transitions_ls}). \\\n",
    "                                 union({y for (x, y) in transitions_ls}))\n",
    "        self.stateIndex_ls.sort()  # Just for aesthetics\n",
    "\n",
    "        # Now build a series that contains the initial states\n",
    "        if initialStates_ls:\n",
    "            self.initialState_sr=pd.Series(Counter(initialStates_ls),\n",
    "                                           index=self.stateIndex_ls).fillna(0)\n",
    "        else:\n",
    "            self.initialState_sr=pd.Series(Counter(self.stateIndex_ls), \n",
    "                                           index=self.stateIndex_ls).fillna(0)\n",
    "        \n",
    "        # and normalise the values so the prob.s sum to 1\n",
    "        self.initialState_sr=self.initialState_sr/np.sum(self.initialState_sr)\n",
    "        \n",
    "        # And convert to a Markov State\n",
    "        self.initialState_ms=MarkovState(np.log(self.initialState_sr),\n",
    "                                         pd.DataFrame(index=self.initialState_sr.index,\n",
    "                                                      columns=[0]))\n",
    "\n",
    "        # Now build an array that encodes the transitions\n",
    "        self.transitionMatrix_df=pd.DataFrame(0,\n",
    "                                              index=self.stateIndex_ls,\n",
    "                                              columns=self.stateIndex_ls)\n",
    "        \n",
    "        for (x, y) in transitions_ls:\n",
    "            self.transitionMatrix_df.loc[x][y]+=1\n",
    "        for row_ix in self.transitionMatrix_df.index:\n",
    "            if not all(self.transitionMatrix_df.loc[row_ix]==0):\n",
    "                self.transitionMatrix_df.loc[row_ix]= \\\n",
    "                   self.transitionMatrix_df.loc[row_ix]/ \\\n",
    "                     np.sum(self.transitionMatrix_df.loc[row_ix])\n",
    "                \n",
    "        # Take the log of the transition matrix to make\n",
    "        # calculations more accurate\n",
    "        self.logTransitionMatrix_df=np.log(self.transitionMatrix_df)\n",
    "\n",
    "        # Same for the initial states:\n",
    "        self.logInitialState_sr=np.log(self.initialState_sr)\n",
    "\n",
    "\n",
    "    def create_markov_state(self, statesIn_ls):\n",
    "        '''\n",
    "        Helper function to convert a list of states\n",
    "        to a MarkovState object. Usually used as the\n",
    "        first step of input to the apply method.\n",
    "        '''\n",
    "        \n",
    "        statesDist_sr=pd.Series(Counter(statesIn_ls),\n",
    "                                index=self.transitionMatrix_df.index\n",
    "                               ).fillna(0)\n",
    "        statesDist_sr=statesDist_sr/np.sum(statesDist_sr)\n",
    "        \n",
    "        return MarkovState(np.log(statesDist_sr),\n",
    "                           pd.DataFrame(index=self.transitionMatrix_df.index,\n",
    "                                        columns=[0]))\n",
    "        \n",
    "    def apply_1(self, stateIn_ms):\n",
    "        '''\n",
    "        Helper function to apply: applies the transition matrix\n",
    "        for self to stateIn_ms. Returns the pair of the log \n",
    "        distribution of outputs and the previous state from \n",
    "        which the next state is arrived at.\n",
    "        '''\n",
    "        logCurrentState_sr=stateIn_ms.get_log_current_state_distribution()\n",
    "        logNextState_sr=pd.Series(index=logCurrentState_sr.index)\n",
    "        previousState_sr=pd.Series(index=logCurrentState_sr.index)\n",
    "        \n",
    "        # For each column in the logged transition matrix:\n",
    "        for c in self.logTransitionMatrix_df.index:\n",
    "\n",
    "            # multiply (logged) each of the transition probabilities\n",
    "            # by the probability of being in that state\n",
    "            calculateTransitions_sr=logCurrentState_sr + \\\n",
    "                                    self.logTransitionMatrix_df[c]\n",
    "            \n",
    "            logNextState_sr[c]=calculateTransitions_sr.max()\n",
    "            previousState_sr[c]=calculateTransitions_sr.idxmax()\n",
    "            \n",
    "        tmp_df=stateIn_ms.get_path_dataframe()\n",
    "        tmp_df[max(tmp_df.columns)+1]=previousState_sr\n",
    "            \n",
    "        return MarkovState(logNextState_sr,\n",
    "                           tmp_df)\n",
    "\n",
    "    def apply(self, stateIn_ms, steps=1):\n",
    "        '''\n",
    "        Takes an input MarkovState, and returns the output\n",
    "        MarkovState following steps applications.\n",
    "        \n",
    "        Can also take a list of states as an alternative to\n",
    "        the input MarkovState, in which case it will be \n",
    "        converted as necessary.\n",
    "\n",
    "        Both stateIn_ar and transitionIn_ar are expressed as logs.\n",
    "        \n",
    "        TODO: Raise an error if indices don't match, or if a\n",
    "              list is input which contains nonexistent states.\n",
    "        '''\n",
    "        \n",
    "        # First, if the given argument is not a MarkovState,\n",
    "        # generate one based on the input\n",
    "        if not isinstance(stateIn_ms, MarkovState):\n",
    "            stateIn_ms=self.create_markov_state(stateIn_ms)\n",
    "    \n",
    "        # Next, let's call a helper function apply_1\n",
    "        # to make the application once\n",
    "        \n",
    "        stateOut_ms=stateIn_ms\n",
    "        \n",
    "        for i in range(steps):\n",
    "            stateOut_ms=self.apply_1(stateOut_ms)\n",
    "        \n",
    "        return stateOut_ms\n",
    "    \n",
    "    def transition_weight(self, state1, state2):\n",
    "        '''\n",
    "        Return the weight (usually a probability, if the weight\n",
    "        of all leaving arcs sum to 1) of the arc from state1\n",
    "        to state2\n",
    "        '''\n",
    "        return self.transitionMatrix_ar[self.stateIndex_ls.index(state1)][self.stateIndex_ls.index(state2)]\n",
    "    \n",
    "    def get_states(self):\n",
    "        '''\n",
    "        Return list of states in model\n",
    "        '''\n",
    "        return list(self.transitionMatrix_df.index)\n",
    "    \n",
    "    def get_initial_state(self):\n",
    "        '''\n",
    "        Return the initial states as a Markov State\n",
    "        '''\n",
    "        return self.initialState_ms"
   ]
  },
  {
   "cell_type": "markdown",
   "metadata": {},
   "source": [
    "I'm going to put rather more test cases here now. We can always comment out the tests before exporting."
   ]
  },
  {
   "cell_type": "code",
   "execution_count": 69,
   "metadata": {
    "collapsed": true
   },
   "outputs": [],
   "source": [
    "transitions_ls=[('a', 'a'), ('a', 'b'), ('a', 'b'), ('a', 'b'), ('a', 'b'), \n",
    "                ('a', 'c'), ('a', 'c'), ('a', 'c'), ('a', 'c'), ('a', 'c'), \n",
    "                ('b', 'a'), ('b', 'b'), ('b', 'b'), ('b', 'b'), ('b', 'b'), \n",
    "                ('b', 'b'), ('b', 'b'), ('b', 'b'), ('b', 'b'), ('b', 'c'),\n",
    "                ('c', 'a'), ('c', 'a'), ('c', 'a'), ('c', 'b'), ('c', 'b'),\n",
    "                ('c', 'b'), ('c', 'b'), ('c', 'c'), ('c', 'c'), ('c', 'c')]"
   ]
  },
  {
   "cell_type": "code",
   "execution_count": 70,
   "metadata": {},
   "outputs": [],
   "source": [
    "test1_mm=MarkovModel(transitions_ls, ['a'])"
   ]
  },
  {
   "cell_type": "code",
   "execution_count": 71,
   "metadata": {},
   "outputs": [
    {
     "data": {
      "text/html": [
       "<div>\n",
       "<style>\n",
       "    .dataframe thead tr:only-child th {\n",
       "        text-align: right;\n",
       "    }\n",
       "\n",
       "    .dataframe thead th {\n",
       "        text-align: left;\n",
       "    }\n",
       "\n",
       "    .dataframe tbody tr th {\n",
       "        vertical-align: top;\n",
       "    }\n",
       "</style>\n",
       "<table border=\"1\" class=\"dataframe\">\n",
       "  <thead>\n",
       "    <tr style=\"text-align: right;\">\n",
       "      <th></th>\n",
       "      <th>a</th>\n",
       "      <th>b</th>\n",
       "      <th>c</th>\n",
       "    </tr>\n",
       "  </thead>\n",
       "  <tbody>\n",
       "    <tr>\n",
       "      <th>a</th>\n",
       "      <td>0.1</td>\n",
       "      <td>0.4</td>\n",
       "      <td>0.5</td>\n",
       "    </tr>\n",
       "    <tr>\n",
       "      <th>b</th>\n",
       "      <td>0.1</td>\n",
       "      <td>0.8</td>\n",
       "      <td>0.1</td>\n",
       "    </tr>\n",
       "    <tr>\n",
       "      <th>c</th>\n",
       "      <td>0.3</td>\n",
       "      <td>0.4</td>\n",
       "      <td>0.3</td>\n",
       "    </tr>\n",
       "  </tbody>\n",
       "</table>\n",
       "</div>"
      ],
      "text/plain": [
       "     a    b    c\n",
       "a  0.1  0.4  0.5\n",
       "b  0.1  0.8  0.1\n",
       "c  0.3  0.4  0.3"
      ]
     },
     "execution_count": 71,
     "metadata": {},
     "output_type": "execute_result"
    }
   ],
   "source": [
    "test1_mm.transitionMatrix_df"
   ]
  },
  {
   "cell_type": "code",
   "execution_count": 72,
   "metadata": {},
   "outputs": [],
   "source": [
    "s=test1_mm.create_markov_state(['a', 'a', 'b'])"
   ]
  },
  {
   "cell_type": "code",
   "execution_count": 73,
   "metadata": {},
   "outputs": [
    {
     "data": {
      "text/html": [
       "<div>\n",
       "<style>\n",
       "    .dataframe thead tr:only-child th {\n",
       "        text-align: right;\n",
       "    }\n",
       "\n",
       "    .dataframe thead th {\n",
       "        text-align: left;\n",
       "    }\n",
       "\n",
       "    .dataframe tbody tr th {\n",
       "        vertical-align: top;\n",
       "    }\n",
       "</style>\n",
       "<table border=\"1\" class=\"dataframe\">\n",
       "  <thead>\n",
       "    <tr style=\"text-align: right;\">\n",
       "      <th></th>\n",
       "      <th>0</th>\n",
       "    </tr>\n",
       "  </thead>\n",
       "  <tbody>\n",
       "    <tr>\n",
       "      <th>a</th>\n",
       "      <td>NaN</td>\n",
       "    </tr>\n",
       "    <tr>\n",
       "      <th>b</th>\n",
       "      <td>NaN</td>\n",
       "    </tr>\n",
       "    <tr>\n",
       "      <th>c</th>\n",
       "      <td>NaN</td>\n",
       "    </tr>\n",
       "  </tbody>\n",
       "</table>\n",
       "</div>"
      ],
      "text/plain": [
       "     0\n",
       "a  NaN\n",
       "b  NaN\n",
       "c  NaN"
      ]
     },
     "execution_count": 73,
     "metadata": {},
     "output_type": "execute_result"
    }
   ],
   "source": [
    "s.myPaths_df"
   ]
  },
  {
   "cell_type": "code",
   "execution_count": 74,
   "metadata": {},
   "outputs": [],
   "source": [
    "s=test1_mm.apply(test1_mm.create_markov_state(['a']), 5)"
   ]
  },
  {
   "cell_type": "code",
   "execution_count": 75,
   "metadata": {},
   "outputs": [
    {
     "data": {
      "text/plain": [
       "a    0.02048\n",
       "b    0.16384\n",
       "c    0.02048\n",
       "dtype: float64"
      ]
     },
     "execution_count": 75,
     "metadata": {},
     "output_type": "execute_result"
    }
   ],
   "source": [
    "s.get_current_state_distribution()"
   ]
  },
  {
   "cell_type": "code",
   "execution_count": 76,
   "metadata": {},
   "outputs": [
    {
     "data": {
      "text/html": [
       "<div>\n",
       "<style>\n",
       "    .dataframe thead tr:only-child th {\n",
       "        text-align: right;\n",
       "    }\n",
       "\n",
       "    .dataframe thead th {\n",
       "        text-align: left;\n",
       "    }\n",
       "\n",
       "    .dataframe tbody tr th {\n",
       "        vertical-align: top;\n",
       "    }\n",
       "</style>\n",
       "<table border=\"1\" class=\"dataframe\">\n",
       "  <thead>\n",
       "    <tr style=\"text-align: right;\">\n",
       "      <th></th>\n",
       "      <th>0</th>\n",
       "      <th>1</th>\n",
       "      <th>2</th>\n",
       "      <th>3</th>\n",
       "      <th>4</th>\n",
       "      <th>5</th>\n",
       "    </tr>\n",
       "  </thead>\n",
       "  <tbody>\n",
       "    <tr>\n",
       "      <th>a</th>\n",
       "      <td>NaN</td>\n",
       "      <td>a</td>\n",
       "      <td>c</td>\n",
       "      <td>c</td>\n",
       "      <td>b</td>\n",
       "      <td>b</td>\n",
       "    </tr>\n",
       "    <tr>\n",
       "      <th>b</th>\n",
       "      <td>NaN</td>\n",
       "      <td>a</td>\n",
       "      <td>b</td>\n",
       "      <td>b</td>\n",
       "      <td>b</td>\n",
       "      <td>b</td>\n",
       "    </tr>\n",
       "    <tr>\n",
       "      <th>c</th>\n",
       "      <td>NaN</td>\n",
       "      <td>a</td>\n",
       "      <td>c</td>\n",
       "      <td>a</td>\n",
       "      <td>b</td>\n",
       "      <td>b</td>\n",
       "    </tr>\n",
       "  </tbody>\n",
       "</table>\n",
       "</div>"
      ],
      "text/plain": [
       "     0  1  2  3  4  5\n",
       "a  NaN  a  c  c  b  b\n",
       "b  NaN  a  b  b  b  b\n",
       "c  NaN  a  c  a  b  b"
      ]
     },
     "execution_count": 76,
     "metadata": {},
     "output_type": "execute_result"
    }
   ],
   "source": [
    "s.myPaths_df"
   ]
  },
  {
   "cell_type": "code",
   "execution_count": 77,
   "metadata": {},
   "outputs": [
    {
     "data": {
      "text/plain": [
       "['a', 'b', 'b', 'b', 'b', 'c']"
      ]
     },
     "execution_count": 77,
     "metadata": {},
     "output_type": "execute_result"
    }
   ],
   "source": [
    "s.most_likely_path('c')"
   ]
  },
  {
   "cell_type": "code",
   "execution_count": 78,
   "metadata": {},
   "outputs": [
    {
     "data": {
      "text/plain": [
       "a    1.0\n",
       "b    0.0\n",
       "c    0.0\n",
       "dtype: float64"
      ]
     },
     "execution_count": 78,
     "metadata": {},
     "output_type": "execute_result"
    }
   ],
   "source": [
    "test1_mm.initialState_sr"
   ]
  },
  {
   "cell_type": "code",
   "execution_count": 79,
   "metadata": {
    "collapsed": true
   },
   "outputs": [],
   "source": [
    "transitions_ls=[('a', 'a'), ('a', 'b'), ('a', 'b'), ('a', 'b'), ('a', 'b'), \n",
    "                ('a', 'c'), ('a', 'c'), ('a', 'c'), ('a', 'c'), ('a', 'c'), \n",
    "                ('c', 'a'), ('c', 'a'), ('c', 'a'), ('c', 'b'), ('c', 'b'),\n",
    "                ('c', 'b'), ('c', 'b'), ('c', 'c'), ('c', 'c'), ('c', 'c')]"
   ]
  },
  {
   "cell_type": "code",
   "execution_count": 46,
   "metadata": {
    "collapsed": true
   },
   "outputs": [],
   "source": [
    "test2_mm=MarkovModel(transitions_ls)"
   ]
  },
  {
   "cell_type": "code",
   "execution_count": 47,
   "metadata": {},
   "outputs": [
    {
     "data": {
      "text/html": [
       "<div>\n",
       "<style>\n",
       "    .dataframe thead tr:only-child th {\n",
       "        text-align: right;\n",
       "    }\n",
       "\n",
       "    .dataframe thead th {\n",
       "        text-align: left;\n",
       "    }\n",
       "\n",
       "    .dataframe tbody tr th {\n",
       "        vertical-align: top;\n",
       "    }\n",
       "</style>\n",
       "<table border=\"1\" class=\"dataframe\">\n",
       "  <thead>\n",
       "    <tr style=\"text-align: right;\">\n",
       "      <th></th>\n",
       "      <th>a</th>\n",
       "      <th>b</th>\n",
       "      <th>c</th>\n",
       "    </tr>\n",
       "  </thead>\n",
       "  <tbody>\n",
       "    <tr>\n",
       "      <th>a</th>\n",
       "      <td>0.1</td>\n",
       "      <td>0.4</td>\n",
       "      <td>0.5</td>\n",
       "    </tr>\n",
       "    <tr>\n",
       "      <th>b</th>\n",
       "      <td>0.0</td>\n",
       "      <td>0.0</td>\n",
       "      <td>0.0</td>\n",
       "    </tr>\n",
       "    <tr>\n",
       "      <th>c</th>\n",
       "      <td>0.3</td>\n",
       "      <td>0.4</td>\n",
       "      <td>0.3</td>\n",
       "    </tr>\n",
       "  </tbody>\n",
       "</table>\n",
       "</div>"
      ],
      "text/plain": [
       "     a    b    c\n",
       "a  0.1  0.4  0.5\n",
       "b  0.0  0.0  0.0\n",
       "c  0.3  0.4  0.3"
      ]
     },
     "execution_count": 47,
     "metadata": {},
     "output_type": "execute_result"
    }
   ],
   "source": [
    "test2_mm.transitionMatrix_df"
   ]
  },
  {
   "cell_type": "code",
   "execution_count": 48,
   "metadata": {},
   "outputs": [],
   "source": [
    "s=test2_mm.create_markov_state(test2_mm.initialState_sr)"
   ]
  },
  {
   "cell_type": "code",
   "execution_count": 49,
   "metadata": {},
   "outputs": [
    {
     "data": {
      "text/plain": [
       "<__main__.MarkovState at 0x10e0d0358>"
      ]
     },
     "execution_count": 49,
     "metadata": {},
     "output_type": "execute_result"
    }
   ],
   "source": [
    "s"
   ]
  },
  {
   "cell_type": "code",
   "execution_count": null,
   "metadata": {
    "collapsed": true
   },
   "outputs": [],
   "source": []
  },
  {
   "cell_type": "code",
   "execution_count": null,
   "metadata": {
    "collapsed": true
   },
   "outputs": [],
   "source": []
  },
  {
   "cell_type": "code",
   "execution_count": null,
   "metadata": {
    "collapsed": true
   },
   "outputs": [],
   "source": []
  },
  {
   "cell_type": "code",
   "execution_count": 50,
   "metadata": {},
   "outputs": [
    {
     "data": {
      "text/plain": [
       "<__main__.MarkovState at 0x10e03ad30>"
      ]
     },
     "execution_count": 50,
     "metadata": {},
     "output_type": "execute_result"
    }
   ],
   "source": [
    "test1_mm.apply(test1_mm.initialState_sr)"
   ]
  },
  {
   "cell_type": "code",
   "execution_count": null,
   "metadata": {
    "collapsed": true
   },
   "outputs": [],
   "source": []
  },
  {
   "cell_type": "code",
   "execution_count": null,
   "metadata": {
    "collapsed": true
   },
   "outputs": [],
   "source": []
  },
  {
   "cell_type": "code",
   "execution_count": 51,
   "metadata": {},
   "outputs": [
    {
     "data": {
      "text/html": [
       "<div>\n",
       "<style>\n",
       "    .dataframe thead tr:only-child th {\n",
       "        text-align: right;\n",
       "    }\n",
       "\n",
       "    .dataframe thead th {\n",
       "        text-align: left;\n",
       "    }\n",
       "\n",
       "    .dataframe tbody tr th {\n",
       "        vertical-align: top;\n",
       "    }\n",
       "</style>\n",
       "<table border=\"1\" class=\"dataframe\">\n",
       "  <thead>\n",
       "    <tr style=\"text-align: right;\">\n",
       "      <th></th>\n",
       "    </tr>\n",
       "  </thead>\n",
       "  <tbody>\n",
       "    <tr>\n",
       "      <th>a</th>\n",
       "    </tr>\n",
       "    <tr>\n",
       "      <th>b</th>\n",
       "    </tr>\n",
       "    <tr>\n",
       "      <th>c</th>\n",
       "    </tr>\n",
       "  </tbody>\n",
       "</table>\n",
       "</div>"
      ],
      "text/plain": [
       "Empty DataFrame\n",
       "Columns: []\n",
       "Index: [a, b, c]"
      ]
     },
     "execution_count": 51,
     "metadata": {},
     "output_type": "execute_result"
    }
   ],
   "source": [
    "u=pd.DataFrame(index=['a', 'b', 'c'])\n",
    "u"
   ]
  },
  {
   "cell_type": "code",
   "execution_count": 52,
   "metadata": {
    "collapsed": true
   },
   "outputs": [],
   "source": [
    "u['g']=pd.Series({'a':3, 'c':4}, index=u.index, dtype=np.int).fillna(0)"
   ]
  },
  {
   "cell_type": "code",
   "execution_count": 53,
   "metadata": {},
   "outputs": [
    {
     "data": {
      "text/html": [
       "<div>\n",
       "<style>\n",
       "    .dataframe thead tr:only-child th {\n",
       "        text-align: right;\n",
       "    }\n",
       "\n",
       "    .dataframe thead th {\n",
       "        text-align: left;\n",
       "    }\n",
       "\n",
       "    .dataframe tbody tr th {\n",
       "        vertical-align: top;\n",
       "    }\n",
       "</style>\n",
       "<table border=\"1\" class=\"dataframe\">\n",
       "  <thead>\n",
       "    <tr style=\"text-align: right;\">\n",
       "      <th></th>\n",
       "      <th>g</th>\n",
       "    </tr>\n",
       "  </thead>\n",
       "  <tbody>\n",
       "    <tr>\n",
       "      <th>a</th>\n",
       "      <td>3.0</td>\n",
       "    </tr>\n",
       "    <tr>\n",
       "      <th>b</th>\n",
       "      <td>0.0</td>\n",
       "    </tr>\n",
       "    <tr>\n",
       "      <th>c</th>\n",
       "      <td>4.0</td>\n",
       "    </tr>\n",
       "  </tbody>\n",
       "</table>\n",
       "</div>"
      ],
      "text/plain": [
       "     g\n",
       "a  3.0\n",
       "b  0.0\n",
       "c  4.0"
      ]
     },
     "execution_count": 53,
     "metadata": {},
     "output_type": "execute_result"
    }
   ],
   "source": [
    "u"
   ]
  },
  {
   "cell_type": "code",
   "execution_count": null,
   "metadata": {
    "collapsed": true
   },
   "outputs": [],
   "source": []
  },
  {
   "cell_type": "code",
   "execution_count": null,
   "metadata": {
    "collapsed": true
   },
   "outputs": [],
   "source": []
  },
  {
   "cell_type": "markdown",
   "metadata": {},
   "source": [
    "Now we're going to try to write some code to merge two different markov models. This isn't mathematically particularly well founded, but what the heck..."
   ]
  },
  {
   "cell_type": "markdown",
   "metadata": {},
   "source": [
    "I'm also going to write a subclass of the MarkovModel class here, which will be initialised using the transition matrix etc., rather than the distribution of state transitions:"
   ]
  },
  {
   "cell_type": "code",
   "execution_count": 54,
   "metadata": {
    "collapsed": true
   },
   "outputs": [],
   "source": [
    "class MarkovModelFromArrays(MarkovModel):\n",
    "    def __init__(self, transitions_ar, initialStates_ar, index_ls):\n",
    "        '''\n",
    "        Give the arrays directly. Note, this is not generally\n",
    "        intended to be called by the user.\n",
    "        '''\n",
    "        # provided index should be sorted\n",
    "        assert index_ls==sorted(index_ls)\n",
    "        self.stateIndex_ls=index_ls\n",
    "\n",
    "        # Store the array that contains the initial states\n",
    "        self.initialState_ar=initialStates_ar\n",
    "        # and take the log\n",
    "        self.logInitialState_ar=np.log(self.initialState_ar)\n",
    "\n",
    "        # Now store the array that encodes the transitions,\n",
    "        self.transitionMatrix_ar=transitions_ar\n",
    "        # and take the log\n",
    "        self.logTransitionMatrix_ar=np.log(self.transitionMatrix_ar)"
   ]
  },
  {
   "cell_type": "code",
   "execution_count": 55,
   "metadata": {},
   "outputs": [
    {
     "ename": "SyntaxError",
     "evalue": "invalid syntax (<ipython-input-55-7dd7c0d3afc0>, line 11)",
     "output_type": "error",
     "traceback": [
      "\u001b[0;36m  File \u001b[0;32m\"<ipython-input-55-7dd7c0d3afc0>\"\u001b[0;36m, line \u001b[0;32m11\u001b[0m\n\u001b[0;31m    assert\u001b[0m\n\u001b[0m          ^\u001b[0m\n\u001b[0;31mSyntaxError\u001b[0m\u001b[0;31m:\u001b[0m invalid syntax\n"
     ]
    }
   ],
   "source": [
    "def merge(model1, model2, weight, normalise=True):\n",
    "    '''\n",
    "    Combine the transition matrices of model1 and model2 into\n",
    "    an averaged model, in which model1 has weight, and model2\n",
    "    has (1-weight).\n",
    "    \n",
    "    If normalise==True, then adjust the model so that the\n",
    "    outputs from all nodes sum to 1 (or zero if no leaving\n",
    "    arcs).\n",
    "    '''\n",
    "    assert\n",
    "    \n",
    "    \n",
    "    mergedIndex_ls=sorted(list(set(model1.stateIndex_ls).union(set(model2.stateIndex_ls))))\n",
    "    mergedTransitionMatrix_ar=np.zeros([len(mergedIndex_ls), len(mergedIndex_ls)], dtype=np.float)\n",
    "\n",
    "    for stateFrom in model1.stateIndex_ls:\n",
    "        for stateTo in model1.stateIndex_ls:\n",
    "            w=weight * model1.transition_weight(stateFrom, stateTo)\n",
    "            mergedTransitionMatrix_ar[mergedIndex_ls.index(stateFrom)][mergedIndex_ls.index(stateTo)]+=w\n",
    "            \n",
    "    for stateFrom in model2.stateIndex_ls:\n",
    "        for stateTo in model2.stateIndex_ls:\n",
    "            w=(1-weight) * model2.transition_weight(stateFrom, stateTo)\n",
    "            mergedTransitionMatrix_ar[mergedIndex_ls.index(stateFrom)][mergedIndex_ls.index(stateTo)]+=w\n",
    "\n",
    "    if normalise:\n",
    "        for (i, row) in enumerate(mergedTransitionMatrix_ar):\n",
    "            if np.sum(row)!=0:\n",
    "                mergedTransitionMatrix_ar[i]=row/np.sum(row)\n",
    "    \n",
    "    # I should do something with the initial states... let's just combine\n",
    "    # them like the transition matrices\n",
    "    initialStates_ar=np.zeros(len(mergedIndex_ls))\n",
    "    for (i, v) in enumerate(model1.initialState_ar):\n",
    "        stateIndex_state=model1.stateIndex_ls[i]\n",
    "        ms_i=mergedIndex_ls.index(stateIndex_state)\n",
    "        initialStates_ar[ms_i]+=weight*v\n",
    "    \n",
    "    for (i, v) in enumerate(model2.initialState_ar):\n",
    "        stateIndex_state=model2.stateIndex_ls[i]\n",
    "        ms_i=mergedIndex_ls.index(stateIndex_state)\n",
    "        initialStates_ar[ms_i]+=(1-weight)*v\n",
    "    \n",
    "    if normalise:\n",
    "        initialStates_ar=initialStates_ar/np.sum(initialStates_ar)\n",
    "    \n",
    "    return MarkovModelFromArrays(mergedTransitionMatrix_ar,\n",
    "                                 initialStates_ar,\n",
    "                                 mergedIndex_ls)\n",
    "    \n",
    "    "
   ]
  },
  {
   "cell_type": "code",
   "execution_count": null,
   "metadata": {
    "collapsed": true
   },
   "outputs": [],
   "source": [
    "a=np.zeros([3,3])\n",
    "a"
   ]
  },
  {
   "cell_type": "code",
   "execution_count": null,
   "metadata": {
    "collapsed": true
   },
   "outputs": [],
   "source": [
    "for i in range(3):\n",
    "    for j in range(3):\n",
    "        a[i][j]=i*0.2+j*0.3\n",
    "a"
   ]
  },
  {
   "cell_type": "code",
   "execution_count": null,
   "metadata": {
    "collapsed": true
   },
   "outputs": [],
   "source": [
    "b=np.concatenate([a, np.zeros([2, 3])], axis=0)\n",
    "b"
   ]
  },
  {
   "cell_type": "code",
   "execution_count": null,
   "metadata": {
    "collapsed": true
   },
   "outputs": [],
   "source": [
    "c=np.concatenate([b, np.zeros([5, 2])], axis=1)\n",
    "c"
   ]
  },
  {
   "cell_type": "markdown",
   "metadata": {},
   "source": [
    "Now want to sort so that the index is ['a', 'b', 'c', 'd', 'e'] rather than ['a', 'c', 'e', 'b', 'd']"
   ]
  },
  {
   "cell_type": "code",
   "execution_count": null,
   "metadata": {
    "collapsed": true
   },
   "outputs": [],
   "source": [
    "c.argsort()"
   ]
  },
  {
   "cell_type": "code",
   "execution_count": null,
   "metadata": {
    "collapsed": true
   },
   "outputs": [],
   "source": [
    "import pandas as pd"
   ]
  },
  {
   "cell_type": "code",
   "execution_count": null,
   "metadata": {
    "collapsed": true
   },
   "outputs": [],
   "source": [
    "a=pd.DataFrame({'a':[0, 2, 1], 'e':[6, 8, 7], 'c':[3, 5, 4]},\n",
    "                index=['a', 'e', 'c'])\n",
    "a"
   ]
  },
  {
   "cell_type": "code",
   "execution_count": null,
   "metadata": {
    "collapsed": true
   },
   "outputs": [],
   "source": [
    "b=pd.DataFrame({'d':[12, 11, 10], 'e':[15, 16, 14], 'a':[19, 17, 18]},\n",
    "                index=['e', 'd', 'a'])\n",
    "b"
   ]
  },
  {
   "cell_type": "code",
   "execution_count": null,
   "metadata": {
    "collapsed": true
   },
   "outputs": [],
   "source": [
    "a+b"
   ]
  },
  {
   "cell_type": "code",
   "execution_count": null,
   "metadata": {
    "collapsed": true
   },
   "outputs": [],
   "source": [
    "a.add(b, fill_value=0)"
   ]
  },
  {
   "cell_type": "code",
   "execution_count": null,
   "metadata": {
    "collapsed": true
   },
   "outputs": [],
   "source": [
    "import pandas as pd"
   ]
  },
  {
   "cell_type": "code",
   "execution_count": null,
   "metadata": {
    "collapsed": true
   },
   "outputs": [],
   "source": [
    "i_ls=['a', 'b', 'c', 'd']"
   ]
  },
  {
   "cell_type": "code",
   "execution_count": null,
   "metadata": {
    "collapsed": true
   },
   "outputs": [],
   "source": [
    "df=pd.DataFrame(3, index=i_ls, columns=['g', 'h', 'i', 'j'], dtype=int)\n",
    "np.log(df)"
   ]
  },
  {
   "cell_type": "code",
   "execution_count": null,
   "metadata": {
    "collapsed": true
   },
   "outputs": [],
   "source": [
    "np.sum(df.loc['b'])"
   ]
  },
  {
   "cell_type": "code",
   "execution_count": null,
   "metadata": {
    "collapsed": true
   },
   "outputs": [],
   "source": []
  },
  {
   "cell_type": "code",
   "execution_count": null,
   "metadata": {},
   "outputs": [],
   "source": [
    "u=pd.Series([3,6,4,8,9,1], index=['a', 'b', 'c', 'd', 'e', 'f'])\n",
    "u"
   ]
  },
  {
   "cell_type": "code",
   "execution_count": null,
   "metadata": {},
   "outputs": [],
   "source": [
    "pd.DataFrame(index=['a', 'b', 'c'], columns=[0])"
   ]
  },
  {
   "cell_type": "code",
   "execution_count": null,
   "metadata": {
    "collapsed": true
   },
   "outputs": [],
   "source": []
  }
 ],
 "metadata": {
  "kernelspec": {
   "display_name": "Python [conda root]",
   "language": "python",
   "name": "conda-root-py"
  },
  "language_info": {
   "codemirror_mode": {
    "name": "ipython",
    "version": 3
   },
   "file_extension": ".py",
   "mimetype": "text/x-python",
   "name": "python",
   "nbconvert_exporter": "python",
   "pygments_lexer": "ipython3",
   "version": "3.5.4"
  }
 },
 "nbformat": 4,
 "nbformat_minor": 2
}
